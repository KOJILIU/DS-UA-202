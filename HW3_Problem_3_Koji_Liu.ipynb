{
  "cells": [
    {
      "cell_type": "markdown",
      "metadata": {
        "id": "rmoZ7PnaFdYv"
      },
      "source": [
        "# RDS HW3 Template\n",
        "\n",
        "Install the Data Synthesizer library."
      ]
    },
    {
      "cell_type": "markdown",
      "source": [
        "# Section"
      ],
      "metadata": {
        "id": "SDZGpVkoJsVe"
      }
    },
    {
      "cell_type": "code",
      "execution_count": null,
      "metadata": {
        "id": "1VR_j1uKFdY0",
        "colab": {
          "base_uri": "https://localhost:8080/"
        },
        "outputId": "9550e088-b245-4cc4-bf14-949ec7a23880"
      },
      "outputs": [
        {
          "output_type": "stream",
          "name": "stdout",
          "text": [
            "Collecting DataSynthesizer\n",
            "  Downloading DataSynthesizer-0.1.11-py2.py3-none-any.whl (24 kB)\n",
            "Requirement already satisfied: scikit-learn>=0.23.1 in /usr/local/lib/python3.7/dist-packages (from DataSynthesizer) (1.0.2)\n",
            "Requirement already satisfied: python-dateutil>=2.8.1 in /usr/local/lib/python3.7/dist-packages (from DataSynthesizer) (2.8.2)\n",
            "Requirement already satisfied: pandas>=1.0.5 in /usr/local/lib/python3.7/dist-packages (from DataSynthesizer) (1.3.5)\n",
            "Requirement already satisfied: numpy>=1.18.5 in /usr/local/lib/python3.7/dist-packages (from DataSynthesizer) (1.21.5)\n",
            "Requirement already satisfied: matplotlib>=3.2.2 in /usr/local/lib/python3.7/dist-packages (from DataSynthesizer) (3.2.2)\n",
            "Requirement already satisfied: seaborn>=0.10.1 in /usr/local/lib/python3.7/dist-packages (from DataSynthesizer) (0.11.2)\n",
            "Requirement already satisfied: kiwisolver>=1.0.1 in /usr/local/lib/python3.7/dist-packages (from matplotlib>=3.2.2->DataSynthesizer) (1.4.0)\n",
            "Requirement already satisfied: cycler>=0.10 in /usr/local/lib/python3.7/dist-packages (from matplotlib>=3.2.2->DataSynthesizer) (0.11.0)\n",
            "Requirement already satisfied: pyparsing!=2.0.4,!=2.1.2,!=2.1.6,>=2.0.1 in /usr/local/lib/python3.7/dist-packages (from matplotlib>=3.2.2->DataSynthesizer) (3.0.7)\n",
            "Requirement already satisfied: typing-extensions in /usr/local/lib/python3.7/dist-packages (from kiwisolver>=1.0.1->matplotlib>=3.2.2->DataSynthesizer) (3.10.0.2)\n",
            "Requirement already satisfied: pytz>=2017.3 in /usr/local/lib/python3.7/dist-packages (from pandas>=1.0.5->DataSynthesizer) (2018.9)\n",
            "Requirement already satisfied: six>=1.5 in /usr/local/lib/python3.7/dist-packages (from python-dateutil>=2.8.1->DataSynthesizer) (1.15.0)\n",
            "Requirement already satisfied: scipy>=1.1.0 in /usr/local/lib/python3.7/dist-packages (from scikit-learn>=0.23.1->DataSynthesizer) (1.4.1)\n",
            "Requirement already satisfied: joblib>=0.11 in /usr/local/lib/python3.7/dist-packages (from scikit-learn>=0.23.1->DataSynthesizer) (1.1.0)\n",
            "Requirement already satisfied: threadpoolctl>=2.0.0 in /usr/local/lib/python3.7/dist-packages (from scikit-learn>=0.23.1->DataSynthesizer) (3.1.0)\n",
            "Installing collected packages: DataSynthesizer\n",
            "Successfully installed DataSynthesizer-0.1.11\n"
          ]
        }
      ],
      "source": [
        "!pip install DataSynthesizer"
      ]
    },
    {
      "cell_type": "code",
      "execution_count": null,
      "metadata": {
        "id": "yd3BwlQ1FdZD"
      },
      "outputs": [],
      "source": [
        "from DataSynthesizer.DataDescriber import DataDescriber\n",
        "from DataSynthesizer.DataGenerator import DataGenerator\n",
        "from DataSynthesizer.ModelInspector import ModelInspector\n",
        "from DataSynthesizer.lib.utils import normalize_given_distribution, read_json_file, pairwise_attributes_mutual_information, mutual_information, set_random_seed\n",
        "\n",
        "from IPython.display import clear_output\n",
        "from scipy.stats import entropy, ks_2samp\n",
        "from scipy.spatial.distance import euclidean\n",
        "from sklearn.metrics import mutual_info_score\n",
        "from random import randint\n",
        "import pandas as pd\n",
        "import matplotlib.pyplot as plt\n",
        "import seaborn as sns\n",
        "%matplotlib inline"
      ]
    },
    {
      "cell_type": "code",
      "execution_count": null,
      "metadata": {
        "id": "M6YGhJ8yFdZO"
      },
      "outputs": [],
      "source": [
        "def generate_data_A(input_data_file, output_data_size, seed=None):\n",
        "    seed = seed or randint(0, 2**30)\n",
        "    description_file = description_files['A']\n",
        "\n",
        "    describer = DataDescriber()\n",
        "    describer.describe_dataset_in_random_mode(input_data_file, seed=seed)\n",
        "    describer.save_dataset_description_to_file(description_file)\n",
        "\n",
        "    generator = DataGenerator()\n",
        "    generator.generate_dataset_in_random_mode(output_data_size, description_file, seed=seed)\n",
        "    return generator.synthetic_dataset"
      ]
    },
    {
      "cell_type": "code",
      "execution_count": null,
      "metadata": {
        "id": "_ucdJfUuFdZe"
      },
      "outputs": [],
      "source": [
        "def generate_data_B(input_data_file, output_data_size, epsilon=0.1, seed=None):\n",
        "    seed = seed or randint(0, 2**30)\n",
        "    description_file = description_files['B']\n",
        "\n",
        "    describer = DataDescriber()\n",
        "    describer.describe_dataset_in_independent_attribute_mode(input_data_file, epsilon=epsilon, seed=seed)\n",
        "    describer.save_dataset_description_to_file(description_file)\n",
        "\n",
        "    generator = DataGenerator()\n",
        "    generator.generate_dataset_in_independent_mode(output_data_size, description_file, seed=seed)\n",
        "    return generator.synthetic_dataset"
      ]
    },
    {
      "cell_type": "code",
      "execution_count": null,
      "metadata": {
        "id": "AiO-8_CPFdZj"
      },
      "outputs": [],
      "source": [
        "def generate_data_CD(input_data_file, output_data_size, description_file, epsilon=0.5, k=1, seed=None):\n",
        "    seed = seed or randint(0, 2**30)\n",
        "\n",
        "    describer = DataDescriber()\n",
        "    describer.describe_dataset_in_correlated_attribute_mode(input_data_file, k=k, epsilon=epsilon, seed=seed)\n",
        "    describer.save_dataset_description_to_file(description_file)\n",
        "\n",
        "    generator = DataGenerator()\n",
        "    generator.generate_dataset_in_correlated_attribute_mode(output_data_size, description_file, seed=seed)\n",
        "    return generator.synthetic_dataset\n",
        "\n",
        "def generate_data_C(input_data_file, output_data_size, epsilon=0.1, seed=None):\n",
        "    return generate_data_CD(input_data_file, output_data_size, description_files['C'], epsilon, k=1, seed=seed)\n",
        "\n",
        "def generate_data_D(input_data_file, output_data_size, epsilon=0.1, seed=None):\n",
        "    return generate_data_CD(input_data_file, output_data_size, description_files['D'], epsilon, k=2, seed=seed)"
      ]
    },
    {
      "cell_type": "markdown",
      "metadata": {
        "id": "_ZaByotmFdZo"
      },
      "source": [
        "Start with a real dataset __hw_compas__ and a fake dataset __hw_xyz__. Generate synthetic datasets of size __N=10000__, in the following four categories:\n",
        "- A:  random mode\n",
        "- B: independent attribute mode with __epsilon = 0.1__\n",
        "- C:  correlated attribute mode with __epsilon = 0.1__, Bayes net degree k=1\n",
        "- D: correlated attribute mode with __epsilon = 0.1__, Bayes net degree k=2"
      ]
    },
    {
      "cell_type": "code",
      "execution_count": null,
      "metadata": {
        "id": "GXqw1Tjl3kdb"
      },
      "outputs": [],
      "source": [
        "# Packages for reading csv file into Colaboratory:\n",
        "!pip install -U -q PyDrive==1.3.1\n",
        "\n",
        "from pydrive.auth import GoogleAuth\n",
        "from pydrive.drive import GoogleDrive\n",
        "from google.colab import auth\n",
        "from oauth2client.client import GoogleCredentials\n",
        "\n",
        "# Authenticate and create the PyDrive client.\n",
        "# Please follow the steps as instructed when you run the following commands.\n",
        "\n",
        "auth.authenticate_user()\n",
        "gauth = GoogleAuth()\n",
        "gauth.credentials = GoogleCredentials.get_application_default()\n",
        "drive = GoogleDrive(gauth)"
      ]
    },
    {
      "cell_type": "code",
      "execution_count": null,
      "metadata": {
        "id": "hecmLsCU3lsg"
      },
      "outputs": [],
      "source": [
        "fileid_compas = '1kgSIBkOM9y0nz_l8LI8ze9TAhF5gbb64'\n",
        "real_data_file = 'hw_compas.csv'\n",
        "\n",
        "fileid_fake = '1b_T0SHQUMbVvZueZ6yXlxTKBHctMgM0k'\n",
        "fake_data_file = 'hw_fake.csv'\n",
        "\n",
        "downloaded = drive.CreateFile({'id':fileid_compas})\n",
        "downloaded.GetContentFile(real_data_file)\n",
        "df_real = pd.read_csv(real_data_file)\n",
        "\n",
        "downloaded = drive.CreateFile({'id':fileid_fake})\n",
        "downloaded.GetContentFile(fake_data_file)\n",
        "df_fake = pd.read_csv(fake_data_file)"
      ]
    },
    {
      "cell_type": "code",
      "execution_count": null,
      "metadata": {
        "id": "cwmlF9kRFdZp"
      },
      "outputs": [],
      "source": [
        "output_data_size = 10000\n",
        "epsilon = 0.1\n",
        "\n",
        "seed = 0  # make the entire notebook reproducible\n",
        "\n",
        "description_files = {'A': './descrption_A.json',\n",
        "                     'B': './descrption_B.json',\n",
        "                     'C': './descrption_C.json',\n",
        "                     'D': './descrption_D.json'}\n",
        "\n",
        "set_random_seed(seed)\n",
        "\n",
        "df_real_A = generate_data_A(real_data_file, output_data_size)\n",
        "df_real_B = generate_data_B(real_data_file, output_data_size, epsilon=epsilon)\n",
        "df_real_C = generate_data_C(real_data_file, output_data_size, epsilon=epsilon)\n",
        "df_real_D = generate_data_D(real_data_file, output_data_size, epsilon=epsilon)\n",
        "\n",
        "df_fake_A = generate_data_A(fake_data_file, output_data_size)\n",
        "df_fake_B = generate_data_B(fake_data_file, output_data_size, epsilon=epsilon)\n",
        "df_fake_C = generate_data_C(fake_data_file, output_data_size, epsilon=epsilon)\n",
        "df_fake_D = generate_data_D(fake_data_file, output_data_size, epsilon=epsilon)\n",
        "\n",
        "clear_output()"
      ]
    },
    {
      "cell_type": "markdown",
      "metadata": {
        "id": "9jSaXvMoFdZu"
      },
      "source": [
        "## Part (a)"
      ]
    },
    {
      "cell_type": "markdown",
      "metadata": {
        "id": "DyXI_gY_FdZx"
      },
      "source": [
        "### Q1\n",
        "\n",
        "Median, Mean, Min, Max of __age__ and __score__ for each A, B, C and D, compare to the ground truth value in __hw_compas__, present results in a table"
      ]
    },
    {
      "cell_type": "code",
      "execution_count": null,
      "metadata": {
        "id": "1uMG1X8DFdZz"
      },
      "outputs": [],
      "source": [
        "# Your code here"
      ]
    },
    {
      "cell_type": "markdown",
      "metadata": {
        "id": "ZFgyc2B4FdZ6"
      },
      "source": [
        "### Q2\n",
        "\n",
        "Some more sophisticated statistical measure that’s good for independent attribute mode - __Two-sample Kolmogorov–Smirnov test__ and __KL-divergence__. Also show the difference visually, comparing real vs. synthetic"
      ]
    },
    {
      "cell_type": "code",
      "execution_count": null,
      "metadata": {
        "id": "ZeqtORgGFdZ7"
      },
      "outputs": [],
      "source": [
        "# Your code here"
      ]
    },
    {
      "cell_type": "markdown",
      "metadata": {
        "id": "g-Or3PInFdan"
      },
      "source": [
        "#### Two-sample Kolmogorov–Smirnov test for continous attributes"
      ]
    },
    {
      "cell_type": "code",
      "execution_count": null,
      "metadata": {
        "id": "yTzh1CM6Fdap"
      },
      "outputs": [],
      "source": [
        "def ks_test(df_in: pd.DataFrame, df_out: pd.DataFrame, attr: str):\n",
        "    \"\"\"\n",
        "    df_in: the sensitive dataset\n",
        "    df_out: the synthetic dataset\n",
        "    attr: the attribute that will be calculated for Two-sample Kolmogorov–Smirnov test.\n",
        "    \"\"\"\n",
        "    return ks_2samp(df_in[attr], df_out[attr])[0]"
      ]
    },
    {
      "cell_type": "markdown",
      "metadata": {
        "id": "X1eUjSSxFda3"
      },
      "source": [
        "#### KL-divergence for categorical attributes"
      ]
    },
    {
      "cell_type": "code",
      "execution_count": null,
      "metadata": {
        "id": "cidvm1mAFda3"
      },
      "outputs": [],
      "source": [
        "def get_distribution_of_categorical_attribute(attribute: pd.Series, indicies=None):\n",
        "    distribution = attribute.dropna().value_counts()\n",
        "    if indicies is not None:\n",
        "        for idx in set(indicies) - set(distribution.index):\n",
        "            distribution.loc[idx] = 0\n",
        "    distribution.sort_index(inplace=True)\n",
        "    return distribution/sum(distribution)\n",
        "\n",
        "def kl_test(df_in: pd.DataFrame, df_out: pd.DataFrame, attr: str):\n",
        "    \"\"\"\n",
        "    df_in: the sensitive dataset\n",
        "    df_out: the synthetic dataset\n",
        "    attr: the attribute that will be calculated for KL-divergence.\n",
        "    \"\"\"\n",
        "    distribution_in = get_distribution_of_categorical_attribute(df_in[attr])\n",
        "    distribution_out = get_distribution_of_categorical_attribute(df_out[attr], distribution_in.index)\n",
        "    return entropy(distribution_out, distribution_in)"
      ]
    },
    {
      "cell_type": "markdown",
      "metadata": {
        "id": "XKzIAfI9FdbD"
      },
      "source": [
        "### Q3\n",
        "\n",
        "some more sophisticated statistical measure that’s good for correlated attribute mode, and will be better with k=2 (case D) than with k=1 (case C), __some distance over pairwise correlation coefficients? Also show the difference visually, comparing results on real vs. synthetic datasets__."
      ]
    },
    {
      "cell_type": "code",
      "source": [
        "# Use pairwise_attributes_mutual_information function.\n",
        "# For function parameters, refer to https://github.com/DataResponsibly/DataSynthesizer/blob/master/DataSynthesizer/lib/utils.py#L31\n",
        "# Your code here"
      ],
      "metadata": {
        "id": "NNd9mfMOVXrA"
      },
      "execution_count": null,
      "outputs": []
    },
    {
      "cell_type": "code",
      "source": [
        "# Use can sns.heatmap for pairwise mutual information\n",
        "# For examples, refer to https://seaborn.pydata.org/generated/seaborn.heatmap.html\n",
        "# Your code here"
      ],
      "metadata": {
        "id": "beIDrJn3VYbS"
      },
      "execution_count": null,
      "outputs": []
    },
    {
      "cell_type": "markdown",
      "metadata": {
        "id": "FpoWEnYTFdbb"
      },
      "source": [
        "## Part (b)\n",
        "\n",
        "Study the variability in accuracy of answers to Q1 and Q2 for A, B and C: fix epsilon = 0.1, generate __10__ synthetic databases (by specifying different seeds).  Plot accuracy as a box-and-whiskers plot.  "
      ]
    },
    {
      "cell_type": "code",
      "execution_count": null,
      "metadata": {
        "id": "xTEwLoi0Fdbb"
      },
      "outputs": [],
      "source": [
        "# You can use sns.boxplot for the plots\n",
        "# For examples, refer to https://seaborn.pydata.org/generated/seaborn.boxplot.html\n",
        "# Your code here"
      ]
    },
    {
      "cell_type": "markdown",
      "metadata": {
        "id": "UINl2ivCFdbk"
      },
      "source": [
        "## Part (c)\n",
        "\n",
        "Study how accuracy of Q3 changes for case **C**, as you vary __epsilon__ = [0.01, 0.02, ..., 0.1]."
      ]
    },
    {
      "cell_type": "code",
      "execution_count": null,
      "metadata": {
        "id": "m1bao_uxFdbl"
      },
      "outputs": [],
      "source": [
        "# Your code here"
      ]
    },
    {
      "cell_type": "markdown",
      "source": [
        "## Part (d)\n",
        "\n",
        "Create and inspect differentially privаte spanning tree. There is no need to write your own code for this part, but what you write in the report should demonstrate a nuanced understanding of how the structures differ between the two approaches (DataSynthesizer and MST)."
      ],
      "metadata": {
        "id": "NgxRIPqcXbtT"
      }
    },
    {
      "cell_type": "code",
      "source": [
        "# Run and then ignore this cell, installing MST\n",
        "!git clone https://github.com/ryan112358/private-pgm.git\n",
        "%cd private-pgm\n",
        "! pip install -r requirements.txt\n",
        "! python setup.py install\n",
        "import os, sys\n",
        "sys.path.append(os.getcwd())\n",
        "!git clone https://github.com/lurosenb/host_mst_wrapper\n",
        "sys.path.insert(1, \"/content/private-pgm/src\")\n",
        "from host_mst_wrapper.mst.mst import MSTSynthesizer"
      ],
      "metadata": {
        "id": "FvecN5i-Xanh",
        "colab": {
          "base_uri": "https://localhost:8080/"
        },
        "outputId": "c1818818-23d5-467e-979c-e1cb727d713e"
      },
      "execution_count": null,
      "outputs": [
        {
          "output_type": "stream",
          "name": "stdout",
          "text": [
            "Cloning into 'private-pgm'...\n",
            "remote: Enumerating objects: 485, done.\u001b[K\n",
            "remote: Counting objects: 100% (314/314), done.\u001b[K\n",
            "remote: Compressing objects: 100% (203/203), done.\u001b[K\n",
            "remote: Total 485 (delta 131), reused 260 (delta 95), pack-reused 171\u001b[K\n",
            "Receiving objects: 100% (485/485), 2.14 MiB | 18.46 MiB/s, done.\n",
            "Resolving deltas: 100% (205/205), done.\n",
            "/content/private-pgm\n",
            "Requirement already satisfied: numpy in /usr/local/lib/python3.7/dist-packages (from -r requirements.txt (line 1)) (1.21.5)\n",
            "Requirement already satisfied: scipy in /usr/local/lib/python3.7/dist-packages (from -r requirements.txt (line 2)) (1.4.1)\n",
            "Requirement already satisfied: pandas in /usr/local/lib/python3.7/dist-packages (from -r requirements.txt (line 3)) (1.3.5)\n",
            "Requirement already satisfied: networkx in /usr/local/lib/python3.7/dist-packages (from -r requirements.txt (line 4)) (2.6.3)\n",
            "Requirement already satisfied: matplotlib in /usr/local/lib/python3.7/dist-packages (from -r requirements.txt (line 5)) (3.2.2)\n",
            "Collecting nose\n",
            "  Downloading nose-1.3.7-py3-none-any.whl (154 kB)\n",
            "\u001b[K     |████████████████████████████████| 154 kB 5.3 MB/s \n",
            "\u001b[?25hCollecting disjoint-set\n",
            "  Downloading disjoint_set-0.7.3-py3-none-any.whl (5.2 kB)\n",
            "Requirement already satisfied: python-dateutil>=2.7.3 in /usr/local/lib/python3.7/dist-packages (from pandas->-r requirements.txt (line 3)) (2.8.2)\n",
            "Requirement already satisfied: pytz>=2017.3 in /usr/local/lib/python3.7/dist-packages (from pandas->-r requirements.txt (line 3)) (2018.9)\n",
            "Requirement already satisfied: six>=1.5 in /usr/local/lib/python3.7/dist-packages (from python-dateutil>=2.7.3->pandas->-r requirements.txt (line 3)) (1.15.0)\n",
            "Requirement already satisfied: kiwisolver>=1.0.1 in /usr/local/lib/python3.7/dist-packages (from matplotlib->-r requirements.txt (line 5)) (1.4.0)\n",
            "Requirement already satisfied: cycler>=0.10 in /usr/local/lib/python3.7/dist-packages (from matplotlib->-r requirements.txt (line 5)) (0.11.0)\n",
            "Requirement already satisfied: pyparsing!=2.0.4,!=2.1.2,!=2.1.6,>=2.0.1 in /usr/local/lib/python3.7/dist-packages (from matplotlib->-r requirements.txt (line 5)) (3.0.7)\n",
            "Requirement already satisfied: typing-extensions in /usr/local/lib/python3.7/dist-packages (from kiwisolver>=1.0.1->matplotlib->-r requirements.txt (line 5)) (3.10.0.2)\n",
            "Installing collected packages: nose, disjoint-set\n",
            "Successfully installed disjoint-set-0.7.3 nose-1.3.7\n",
            "running install\n",
            "running bdist_egg\n",
            "running egg_info\n",
            "creating src/private_pgm.egg-info\n",
            "writing src/private_pgm.egg-info/PKG-INFO\n",
            "writing dependency_links to src/private_pgm.egg-info/dependency_links.txt\n",
            "writing requirements to src/private_pgm.egg-info/requires.txt\n",
            "writing top-level names to src/private_pgm.egg-info/top_level.txt\n",
            "writing manifest file 'src/private_pgm.egg-info/SOURCES.txt'\n",
            "adding license file 'LICENSE'\n",
            "writing manifest file 'src/private_pgm.egg-info/SOURCES.txt'\n",
            "installing library code to build/bdist.linux-x86_64/egg\n",
            "running install_lib\n",
            "running build_py\n",
            "creating build\n",
            "creating build/lib\n",
            "creating build/lib/mbi\n",
            "copying src/mbi/dataset.py -> build/lib/mbi\n",
            "copying src/mbi/mixture_inference.py -> build/lib/mbi\n",
            "copying src/mbi/factor.py -> build/lib/mbi\n",
            "copying src/mbi/__init__.py -> build/lib/mbi\n",
            "copying src/mbi/inference.py -> build/lib/mbi\n",
            "copying src/mbi/region_graph.py -> build/lib/mbi\n",
            "copying src/mbi/mechanism.py -> build/lib/mbi\n",
            "copying src/mbi/public_inference.py -> build/lib/mbi\n",
            "copying src/mbi/domain.py -> build/lib/mbi\n",
            "copying src/mbi/factor_graph.py -> build/lib/mbi\n",
            "copying src/mbi/graphical_model.py -> build/lib/mbi\n",
            "copying src/mbi/local_inference.py -> build/lib/mbi\n",
            "copying src/mbi/clique_vector.py -> build/lib/mbi\n",
            "copying src/mbi/callbacks.py -> build/lib/mbi\n",
            "copying src/mbi/junction_tree.py -> build/lib/mbi\n",
            "copying src/mbi/torch_factor.py -> build/lib/mbi\n",
            "creating build/bdist.linux-x86_64\n",
            "creating build/bdist.linux-x86_64/egg\n",
            "creating build/bdist.linux-x86_64/egg/mbi\n",
            "copying build/lib/mbi/dataset.py -> build/bdist.linux-x86_64/egg/mbi\n",
            "copying build/lib/mbi/mixture_inference.py -> build/bdist.linux-x86_64/egg/mbi\n",
            "copying build/lib/mbi/factor.py -> build/bdist.linux-x86_64/egg/mbi\n",
            "copying build/lib/mbi/__init__.py -> build/bdist.linux-x86_64/egg/mbi\n",
            "copying build/lib/mbi/inference.py -> build/bdist.linux-x86_64/egg/mbi\n",
            "copying build/lib/mbi/region_graph.py -> build/bdist.linux-x86_64/egg/mbi\n",
            "copying build/lib/mbi/mechanism.py -> build/bdist.linux-x86_64/egg/mbi\n",
            "copying build/lib/mbi/public_inference.py -> build/bdist.linux-x86_64/egg/mbi\n",
            "copying build/lib/mbi/domain.py -> build/bdist.linux-x86_64/egg/mbi\n",
            "copying build/lib/mbi/factor_graph.py -> build/bdist.linux-x86_64/egg/mbi\n",
            "copying build/lib/mbi/graphical_model.py -> build/bdist.linux-x86_64/egg/mbi\n",
            "copying build/lib/mbi/local_inference.py -> build/bdist.linux-x86_64/egg/mbi\n",
            "copying build/lib/mbi/clique_vector.py -> build/bdist.linux-x86_64/egg/mbi\n",
            "copying build/lib/mbi/callbacks.py -> build/bdist.linux-x86_64/egg/mbi\n",
            "copying build/lib/mbi/junction_tree.py -> build/bdist.linux-x86_64/egg/mbi\n",
            "copying build/lib/mbi/torch_factor.py -> build/bdist.linux-x86_64/egg/mbi\n",
            "byte-compiling build/bdist.linux-x86_64/egg/mbi/dataset.py to dataset.cpython-37.pyc\n",
            "byte-compiling build/bdist.linux-x86_64/egg/mbi/mixture_inference.py to mixture_inference.cpython-37.pyc\n",
            "byte-compiling build/bdist.linux-x86_64/egg/mbi/factor.py to factor.cpython-37.pyc\n",
            "byte-compiling build/bdist.linux-x86_64/egg/mbi/__init__.py to __init__.cpython-37.pyc\n",
            "byte-compiling build/bdist.linux-x86_64/egg/mbi/inference.py to inference.cpython-37.pyc\n",
            "byte-compiling build/bdist.linux-x86_64/egg/mbi/region_graph.py to region_graph.cpython-37.pyc\n",
            "byte-compiling build/bdist.linux-x86_64/egg/mbi/mechanism.py to mechanism.cpython-37.pyc\n",
            "byte-compiling build/bdist.linux-x86_64/egg/mbi/public_inference.py to public_inference.cpython-37.pyc\n",
            "byte-compiling build/bdist.linux-x86_64/egg/mbi/domain.py to domain.cpython-37.pyc\n",
            "byte-compiling build/bdist.linux-x86_64/egg/mbi/factor_graph.py to factor_graph.cpython-37.pyc\n",
            "byte-compiling build/bdist.linux-x86_64/egg/mbi/graphical_model.py to graphical_model.cpython-37.pyc\n",
            "byte-compiling build/bdist.linux-x86_64/egg/mbi/local_inference.py to local_inference.cpython-37.pyc\n",
            "byte-compiling build/bdist.linux-x86_64/egg/mbi/clique_vector.py to clique_vector.cpython-37.pyc\n",
            "byte-compiling build/bdist.linux-x86_64/egg/mbi/callbacks.py to callbacks.cpython-37.pyc\n",
            "byte-compiling build/bdist.linux-x86_64/egg/mbi/junction_tree.py to junction_tree.cpython-37.pyc\n",
            "byte-compiling build/bdist.linux-x86_64/egg/mbi/torch_factor.py to torch_factor.cpython-37.pyc\n",
            "creating build/bdist.linux-x86_64/egg/EGG-INFO\n",
            "copying src/private_pgm.egg-info/PKG-INFO -> build/bdist.linux-x86_64/egg/EGG-INFO\n",
            "copying src/private_pgm.egg-info/SOURCES.txt -> build/bdist.linux-x86_64/egg/EGG-INFO\n",
            "copying src/private_pgm.egg-info/dependency_links.txt -> build/bdist.linux-x86_64/egg/EGG-INFO\n",
            "copying src/private_pgm.egg-info/requires.txt -> build/bdist.linux-x86_64/egg/EGG-INFO\n",
            "copying src/private_pgm.egg-info/top_level.txt -> build/bdist.linux-x86_64/egg/EGG-INFO\n",
            "zip_safe flag not set; analyzing archive contents...\n",
            "creating dist\n",
            "creating 'dist/private_pgm-0.0.1-py3.7.egg' and adding 'build/bdist.linux-x86_64/egg' to it\n",
            "removing 'build/bdist.linux-x86_64/egg' (and everything under it)\n",
            "Processing private_pgm-0.0.1-py3.7.egg\n",
            "Copying private_pgm-0.0.1-py3.7.egg to /usr/local/lib/python3.7/dist-packages\n",
            "Adding private-pgm 0.0.1 to easy-install.pth file\n",
            "\n",
            "Installed /usr/local/lib/python3.7/dist-packages/private_pgm-0.0.1-py3.7.egg\n",
            "Processing dependencies for private-pgm==0.0.1\n",
            "Searching for disjoint-set==0.7.3\n",
            "Best match: disjoint-set 0.7.3\n",
            "Adding disjoint-set 0.7.3 to easy-install.pth file\n",
            "\n",
            "Using /usr/local/lib/python3.7/dist-packages\n",
            "Searching for nose==1.3.7\n",
            "Best match: nose 1.3.7\n",
            "Adding nose 1.3.7 to easy-install.pth file\n",
            "Installing nosetests script to /usr/local/bin\n",
            "Installing nosetests-3.4 script to /usr/local/bin\n",
            "\n",
            "Using /usr/local/lib/python3.7/dist-packages\n",
            "Searching for matplotlib==3.2.2\n",
            "Best match: matplotlib 3.2.2\n",
            "Adding matplotlib 3.2.2 to easy-install.pth file\n",
            "\n",
            "Using /usr/local/lib/python3.7/dist-packages\n",
            "Searching for networkx==2.6.3\n",
            "Best match: networkx 2.6.3\n",
            "Adding networkx 2.6.3 to easy-install.pth file\n",
            "\n",
            "Using /usr/local/lib/python3.7/dist-packages\n",
            "Searching for pandas==1.3.5\n",
            "Best match: pandas 1.3.5\n",
            "Adding pandas 1.3.5 to easy-install.pth file\n",
            "\n",
            "Using /usr/local/lib/python3.7/dist-packages\n",
            "Searching for scipy==1.4.1\n",
            "Best match: scipy 1.4.1\n",
            "Adding scipy 1.4.1 to easy-install.pth file\n",
            "\n",
            "Using /usr/local/lib/python3.7/dist-packages\n",
            "Searching for numpy==1.21.5\n",
            "Best match: numpy 1.21.5\n",
            "Adding numpy 1.21.5 to easy-install.pth file\n",
            "Installing f2py script to /usr/local/bin\n",
            "Installing f2py3 script to /usr/local/bin\n",
            "Installing f2py3.7 script to /usr/local/bin\n",
            "\n",
            "Using /usr/local/lib/python3.7/dist-packages\n",
            "Searching for python-dateutil==2.8.2\n",
            "Best match: python-dateutil 2.8.2\n",
            "Adding python-dateutil 2.8.2 to easy-install.pth file\n",
            "\n",
            "Using /usr/local/lib/python3.7/dist-packages\n",
            "Searching for cycler==0.11.0\n",
            "Best match: cycler 0.11.0\n",
            "Adding cycler 0.11.0 to easy-install.pth file\n",
            "\n",
            "Using /usr/local/lib/python3.7/dist-packages\n",
            "Searching for kiwisolver==1.4.0\n",
            "Best match: kiwisolver 1.4.0\n",
            "Adding kiwisolver 1.4.0 to easy-install.pth file\n",
            "\n",
            "Using /usr/local/lib/python3.7/dist-packages\n",
            "Searching for pyparsing==3.0.7\n",
            "Best match: pyparsing 3.0.7\n",
            "Adding pyparsing 3.0.7 to easy-install.pth file\n",
            "\n",
            "Using /usr/local/lib/python3.7/dist-packages\n",
            "Searching for pytz==2018.9\n",
            "Best match: pytz 2018.9\n",
            "Adding pytz 2018.9 to easy-install.pth file\n",
            "\n",
            "Using /usr/local/lib/python3.7/dist-packages\n",
            "Searching for six==1.15.0\n",
            "Best match: six 1.15.0\n",
            "Adding six 1.15.0 to easy-install.pth file\n",
            "\n",
            "Using /usr/local/lib/python3.7/dist-packages\n",
            "Searching for typing-extensions==3.10.0.2\n",
            "Best match: typing-extensions 3.10.0.2\n",
            "Adding typing-extensions 3.10.0.2 to easy-install.pth file\n",
            "\n",
            "Using /usr/local/lib/python3.7/dist-packages\n",
            "Finished processing dependencies for private-pgm==0.0.1\n",
            "Cloning into 'host_mst_wrapper'...\n",
            "remote: Enumerating objects: 76, done.\u001b[K\n",
            "remote: Counting objects: 100% (76/76), done.\u001b[K\n",
            "remote: Compressing objects: 100% (62/62), done.\u001b[K\n",
            "remote: Total 76 (delta 29), reused 32 (delta 11), pack-reused 0\u001b[K\n",
            "Unpacking objects: 100% (76/76), done.\n"
          ]
        }
      ]
    },
    {
      "cell_type": "code",
      "source": [
        "# Here we have to convert all the data from hw_compas to categorical numerical,\n",
        "# so that MST can process it.\n",
        "df_real['sex'] = df_real['sex'].astype('category')\n",
        "df_real['race'] = df_real['race'].astype('category')\n",
        "df_real['score'] = df_real['score'].astype('category')\n",
        "categorical = df_real.select_dtypes(['category']).columns\n",
        "df_real[categorical] = df_real[categorical].apply(lambda x: x.cat.codes)"
      ],
      "metadata": {
        "id": "OckBZnkoYPUj"
      },
      "execution_count": null,
      "outputs": []
    },
    {
      "cell_type": "code",
      "source": [
        "synth = MSTSynthesizer(epsilon=0.1, domain_path=\"host_mst_wrapper/mst/compas-domain.json\")\n",
        "synth.fit(df_real)\n",
        "synth.display_MST_graph()"
      ],
      "metadata": {
        "id": "BiCA3aEJYXA3",
        "colab": {
          "base_uri": "https://localhost:8080/",
          "height": 372
        },
        "outputId": "7802e567-7eed-406b-ffaa-780e1da9ce34"
      },
      "execution_count": null,
      "outputs": [
        {
          "output_type": "stream",
          "name": "stdout",
          "text": [
            "Domain(sex: 2, age: 101, race: 6, score: 11)\n",
            "Index(['sex', 'age', 'race', 'score'], dtype='object')\n",
            "[('sex', 'age'), ('age', 'score'), ('race', 'score')]\n"
          ]
        },
        {
          "output_type": "display_data",
          "data": {
            "text/plain": [
              "<Figure size 432x288 with 1 Axes>"
            ],
            "image/png": "[encoded data removed]"
          },
          "metadata": {}
        }
      ]
    },
    {
      "cell_type": "markdown",
      "source": [
        "## Part (e)\n",
        "### 1. KL Divergence for MST\n",
        "Study how KL Divergence compares on hw_compas for MST compared to dataset **D** (df_real_D), as you vary __epsilon__ = [0.1, 0.2, ..., 1]. You only need to do this for **5 datasets** per epsilon this time (i.e., run 5 iterations per epsilon). Expect each MST run to take ~15-20 seconds.\n",
        "\n",
        "You can fit the MST synthesizer using the same code as above for visualizing. Once fit, you can produce a synthetic dataset by simply using the following method:\n",
        "\n",
        "`mst_fake_data = synth.sample(samples=10000)`\n",
        "\n",
        "After running this command, `mst_fake_data` will be a pandas dataframe with 10000 rows and with the same columns as whatever dataframe MST was fit on!"
      ],
      "metadata": {
        "id": "6KZ8AzdQdsyx"
      }
    },
    {
      "cell_type": "code",
      "source": [
        "epsilons_mst_kl = [0.01, 0.02, 0.03, 0.04, 0.05, 0.06, 0.07, 0.08, 0.09, 0.1]\n",
        "iters = 5\n",
        "# Your code here"
      ],
      "metadata": {
        "id": "80F5iu0FdsYx"
      },
      "execution_count": null,
      "outputs": []
    },
    {
      "cell_type": "markdown",
      "source": [
        "### 2. Mutual Information Plot for MST\n",
        "Again, replicate your plots from Part (c) for MST, this time for mutual information, on both hw_compas and hw_fake (df_real and df_fake), varying epsilon = [0.0001, 0.001, 0.01, 0.1, 1, 10, 100]. Compare this plot to the plot of dataset **D** (df_real_D). Once again, you need only generate **5 datasets** per epsilon (i.e., run 5 iterations per epsilon)."
      ],
      "metadata": {
        "id": "UgBzIxAlbm-5"
      }
    },
    {
      "cell_type": "code",
      "source": [
        "epsilons_mst_mi = [0.0001, 0.001, 0.01, 0.1, 1, 10, 100]\n",
        "iters = 5\n",
        "# Your code here"
      ],
      "metadata": {
        "id": "nlxkh6g2crbK"
      },
      "execution_count": null,
      "outputs": []
    }
  ],
  "metadata": {
    "colab": {
      "provenance": []
    },
    "kernelspec": {
      "display_name": "Python 3",
      "language": "python",
      "name": "python3"
    },
    "language_info": {
      "codemirror_mode": {
        "name": "ipython",
        "version": 3
      },
      "file_extension": ".py",
      "mimetype": "text/x-python",
      "name": "python",
      "nbconvert_exporter": "python",
      "pygments_lexer": "ipython3",
      "version": "3.7.1"
    }
  },
  "nbformat": 4,
  "nbformat_minor": 0
}
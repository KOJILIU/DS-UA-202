{
  "cells": [
    {
      "cell_type": "markdown",
      "metadata": {
        "colab_type": "text",
        "id": "view-in-github"
      },
      "source": [
        "<a href=\"https://colab.research.google.com/github/KOJILIU/DS-UA-202/blob/main/HW2_Problem_4.ipynb\" target=\"_parent\"><img src=\"https://colab.research.google.com/assets/colab-badge.svg\" alt=\"Open In Colab\"/></a>"
      ]
    },
    {
      "cell_type": "markdown",
      "metadata": {
        "id": "jTFz1Gbt0TbP"
      },
      "source": [
        "# **HW 2 Problem 4 - Explainability with ShaRP**"
      ]
    },
    {
      "cell_type": "markdown",
      "metadata": {
        "id": "GiOcE_092dob"
      },
      "source": [
        "# Explaining lending decisions using ShaRP\n",
        "\n",
        "When multiple people apply for a loan, banks need to select who to fund. They do so by calculating how likely a person is to repay the loan and then select among the most likely. This process is a ranking process that ShaRP, a tool we saw in the lab, can explain."
      ]
    },
    {
      "cell_type": "markdown",
      "metadata": {
        "id": "UwNmvX2p4lb8"
      },
      "source": [
        "To calculate feature importance, we will use ShaRP, a tool we've seen in the lab. For more information about the method, see the [full paper](https://arxiv.org/abs/2401.16744), and for more information about the toolkit see the [documentation](https://dataresponsibly.github.io/ShaRP/)."
      ]
    },
    {
      "cell_type": "markdown",
      "metadata": {
        "id": "URXJ40r94iCF"
      },
      "source": [
        "#1. Import Statements\n",
        "\n",
        "First we install `ShaRP` and the necessary packages for this problem"
      ]
    },
    {
      "cell_type": "code",
      "execution_count": 58,
      "metadata": {
        "colab": {
          "base_uri": "https://localhost:8080/"
        },
        "id": "8Q7ejpLGYBDq",
        "outputId": "9840a596-29b8-4856-a411-4f38549cebf0"
      },
      "outputs": [
        {
          "name": "stdout",
          "output_type": "stream",
          "text": [
            "Requirement already satisfied: folktables in c:\\users\\kojil\\anaconda3\\lib\\site-packages (0.0.12)\n",
            "Requirement already satisfied: numpy in c:\\users\\kojil\\anaconda3\\lib\\site-packages (from folktables) (1.23.5)\n",
            "Requirement already satisfied: pandas in c:\\users\\kojil\\anaconda3\\lib\\site-packages (from folktables) (2.0.3)\n",
            "Requirement already satisfied: requests in c:\\users\\kojil\\anaconda3\\lib\\site-packages (from folktables) (2.31.0)\n",
            "Requirement already satisfied: scikit-learn in c:\\users\\kojil\\anaconda3\\lib\\site-packages (from folktables) (1.3.0)\n",
            "Requirement already satisfied: python-dateutil>=2.8.2 in c:\\users\\kojil\\anaconda3\\lib\\site-packages (from pandas->folktables) (2.8.2)\n",
            "Requirement already satisfied: pytz>=2020.1 in c:\\users\\kojil\\anaconda3\\lib\\site-packages (from pandas->folktables) (2023.3.post1)\n",
            "Requirement already satisfied: tzdata>=2022.1 in c:\\users\\kojil\\anaconda3\\lib\\site-packages (from pandas->folktables) (2023.3)\n",
            "Requirement already satisfied: charset-normalizer<4,>=2 in c:\\users\\kojil\\anaconda3\\lib\\site-packages (from requests->folktables) (2.0.4)\n",
            "Requirement already satisfied: idna<4,>=2.5 in c:\\users\\kojil\\anaconda3\\lib\\site-packages (from requests->folktables) (3.4)\n",
            "Requirement already satisfied: urllib3<3,>=1.21.1 in c:\\users\\kojil\\anaconda3\\lib\\site-packages (from requests->folktables) (1.26.18)\n",
            "Requirement already satisfied: certifi>=2017.4.17 in c:\\users\\kojil\\anaconda3\\lib\\site-packages (from requests->folktables) (2024.2.2)\n",
            "Requirement already satisfied: scipy>=1.5.0 in c:\\users\\kojil\\anaconda3\\lib\\site-packages (from scikit-learn->folktables) (1.9.3)\n",
            "Requirement already satisfied: joblib>=1.1.1 in c:\\users\\kojil\\anaconda3\\lib\\site-packages (from scikit-learn->folktables) (1.2.0)\n",
            "Requirement already satisfied: threadpoolctl>=2.0.0 in c:\\users\\kojil\\anaconda3\\lib\\site-packages (from scikit-learn->folktables) (2.2.0)\n",
            "Requirement already satisfied: six>=1.5 in c:\\users\\kojil\\anaconda3\\lib\\site-packages (from python-dateutil>=2.8.2->pandas->folktables) (1.16.0)\n",
            "Collecting git+https://github.com/DataResponsibly/ShaRP.git\n",
            "  Cloning https://github.com/DataResponsibly/ShaRP.git to c:\\users\\kojil\\appdata\\local\\temp\\pip-req-build-luiqri9z\n",
            "  Resolved https://github.com/DataResponsibly/ShaRP.git to commit b1583d7ce75fb1dde2f0ab46da6e3edd0b13d21d\n",
            "  Preparing metadata (setup.py): started\n",
            "  Preparing metadata (setup.py): finished with status 'done'\n",
            "Requirement already satisfied: numpy>=1.20.0 in c:\\users\\kojil\\anaconda3\\lib\\site-packages (from sharp==0.1.dev0) (1.23.5)\n",
            "Requirement already satisfied: pandas>=1.3.5 in c:\\users\\kojil\\anaconda3\\lib\\site-packages (from sharp==0.1.dev0) (2.0.3)\n",
            "Requirement already satisfied: scikit-learn>=1.2.0 in c:\\users\\kojil\\anaconda3\\lib\\site-packages (from sharp==0.1.dev0) (1.3.0)\n",
            "Requirement already satisfied: tqdm>=4.46.0 in c:\\users\\kojil\\anaconda3\\lib\\site-packages (from sharp==0.1.dev0) (4.65.0)\n",
            "Requirement already satisfied: python-dateutil>=2.8.2 in c:\\users\\kojil\\anaconda3\\lib\\site-packages (from pandas>=1.3.5->sharp==0.1.dev0) (2.8.2)\n",
            "Requirement already satisfied: pytz>=2020.1 in c:\\users\\kojil\\anaconda3\\lib\\site-packages (from pandas>=1.3.5->sharp==0.1.dev0) (2023.3.post1)\n",
            "Requirement already satisfied: tzdata>=2022.1 in c:\\users\\kojil\\anaconda3\\lib\\site-packages (from pandas>=1.3.5->sharp==0.1.dev0) (2023.3)\n",
            "Requirement already satisfied: scipy>=1.5.0 in c:\\users\\kojil\\anaconda3\\lib\\site-packages (from scikit-learn>=1.2.0->sharp==0.1.dev0) (1.9.3)\n",
            "Requirement already satisfied: joblib>=1.1.1 in c:\\users\\kojil\\anaconda3\\lib\\site-packages (from scikit-learn>=1.2.0->sharp==0.1.dev0) (1.2.0)\n",
            "Requirement already satisfied: threadpoolctl>=2.0.0 in c:\\users\\kojil\\anaconda3\\lib\\site-packages (from scikit-learn>=1.2.0->sharp==0.1.dev0) (2.2.0)\n",
            "Requirement already satisfied: colorama in c:\\users\\kojil\\anaconda3\\lib\\site-packages (from tqdm>=4.46.0->sharp==0.1.dev0) (0.4.6)\n",
            "Requirement already satisfied: six>=1.5 in c:\\users\\kojil\\anaconda3\\lib\\site-packages (from python-dateutil>=2.8.2->pandas>=1.3.5->sharp==0.1.dev0) (1.16.0)\n"
          ]
        },
        {
          "name": "stderr",
          "output_type": "stream",
          "text": [
            "  Running command git clone --filter=blob:none --quiet https://github.com/DataResponsibly/ShaRP.git 'C:\\Users\\kojil\\AppData\\Local\\Temp\\pip-req-build-luiqri9z'\n"
          ]
        }
      ],
      "source": [
        "# Data\n",
        "!pip install folktables\n",
        "# ShaRP\n",
        "!pip install git+https://github.com/DataResponsibly/ShaRP.git"
      ]
    },
    {
      "cell_type": "code",
      "execution_count": 59,
      "metadata": {
        "id": "ulyDUxyiYM-E"
      },
      "outputs": [],
      "source": [
        "#@markdown Import statments\n",
        "from folktables import ACSDataSource, ACSIncome\n",
        "\n",
        "import numpy as np\n",
        "\n",
        "import pandas as pd\n",
        "\n",
        "import matplotlib.pyplot as plt\n",
        "import matplotlib.ticker as mtick\n",
        "import matplotlib.ticker as ticker\n",
        "\n",
        "import seaborn as sns\n",
        "\n",
        "import math\n",
        "\n",
        "from sklearn.model_selection import train_test_split\n",
        "from sklearn.preprocessing import StandardScaler, MinMaxScaler\n",
        "from sklearn.linear_model import LogisticRegression\n",
        "\n",
        "from sharp import ShaRP\n",
        "from sharp.utils import scores_to_ordering"
      ]
    },
    {
      "cell_type": "markdown",
      "metadata": {
        "id": "A8FHA1kD44UC"
      },
      "source": [
        "#2. Load Data\n",
        "\n",
        "Next, we will load the ACSIncome dataset from the Folktables benchmark --- this is the same dataset used in Lab 2, 3 and 9.  Folktables is based from US Census Data and is built to solve a few simple prediction tasks. The sample we pull is data from 2018 in California. The column names are described in the table below. Note that certain categorical variables have been mapped to integer values, which we will keep as-is for the following analyses."
      ]
    },
    {
      "cell_type": "markdown",
      "metadata": {
        "id": "h3bNDwQ85BIM"
      },
      "source": [
        "## Data profiling\n",
        "\n",
        "| Column Name | Feature | Description/Notes |\n",
        "| --- | ----------- | --- |\n",
        "| PINCP | Total person’s income | (Target) 1 if >= $50k, 0 if less |\n",
        "| SEX | Sex | (Sensitive Attribute) Male=1, Female=2 |\n",
        "| RAC1P | Race | (Sensitive Attribute) White=1, Black=2, Other races are between 3 and 9 |\n",
        "| AGEP | Age | Ranges from 0-99 |\n",
        "| COW | Class of Worker | Ranges 1-9, see paper for description |\n",
        "| SCHL | Education Level | Ranges 1-24, see paper for description |\n",
        "| MAR | Marital Status | Ranges 1-5, see paper for description |\n",
        "| OCCP | Occupation | Codes taken from Public Use Microdata Sample (PUMS) from the US Census, see paper |\n",
        "| POBP | Place of Birth | Codes taken from Public Use Microdata Sample (PUMS) from the US Census, see paper |\n",
        "| RELP | Relationship | Relationship of individual to person who responded to the Census taker. Ranges 0-17, see paper for description |\n",
        "| WKHP | Hours worked per week | Ranges from 0-99, averaged over previous year |"
      ]
    },
    {
      "cell_type": "code",
      "execution_count": 60,
      "metadata": {
        "colab": {
          "base_uri": "https://localhost:8080/",
          "height": 223
        },
        "id": "zAvcY-VRYSDM",
        "outputId": "68e25ca0-7a8b-494c-bd65-315d8a2cfc51"
      },
      "outputs": [
        {
          "name": "stdout",
          "output_type": "stream",
          "text": [
            "(1000, 11)\n"
          ]
        },
        {
          "data": {
            "text/html": [
              "<div>\n",
              "<style scoped>\n",
              "    .dataframe tbody tr th:only-of-type {\n",
              "        vertical-align: middle;\n",
              "    }\n",
              "\n",
              "    .dataframe tbody tr th {\n",
              "        vertical-align: top;\n",
              "    }\n",
              "\n",
              "    .dataframe thead th {\n",
              "        text-align: right;\n",
              "    }\n",
              "</style>\n",
              "<table border=\"1\" class=\"dataframe\">\n",
              "  <thead>\n",
              "    <tr style=\"text-align: right;\">\n",
              "      <th></th>\n",
              "      <th>AGEP</th>\n",
              "      <th>COW</th>\n",
              "      <th>SCHL</th>\n",
              "      <th>MAR</th>\n",
              "      <th>OCCP</th>\n",
              "      <th>POBP</th>\n",
              "      <th>RELP</th>\n",
              "      <th>WKHP</th>\n",
              "      <th>SEX</th>\n",
              "      <th>RAC1P</th>\n",
              "      <th>PINCP</th>\n",
              "    </tr>\n",
              "  </thead>\n",
              "  <tbody>\n",
              "    <tr>\n",
              "      <th>123170</th>\n",
              "      <td>40</td>\n",
              "      <td>1.0</td>\n",
              "      <td>12.0</td>\n",
              "      <td>4</td>\n",
              "      <td>9640.0</td>\n",
              "      <td>303</td>\n",
              "      <td>0</td>\n",
              "      <td>40.0</td>\n",
              "      <td>2</td>\n",
              "      <td>8</td>\n",
              "      <td>6300.0</td>\n",
              "    </tr>\n",
              "    <tr>\n",
              "      <th>366093</th>\n",
              "      <td>40</td>\n",
              "      <td>3.0</td>\n",
              "      <td>16.0</td>\n",
              "      <td>5</td>\n",
              "      <td>5240.0</td>\n",
              "      <td>316</td>\n",
              "      <td>10</td>\n",
              "      <td>40.0</td>\n",
              "      <td>2</td>\n",
              "      <td>8</td>\n",
              "      <td>36000.0</td>\n",
              "    </tr>\n",
              "    <tr>\n",
              "      <th>279966</th>\n",
              "      <td>37</td>\n",
              "      <td>1.0</td>\n",
              "      <td>20.0</td>\n",
              "      <td>5</td>\n",
              "      <td>5000.0</td>\n",
              "      <td>303</td>\n",
              "      <td>5</td>\n",
              "      <td>NaN</td>\n",
              "      <td>2</td>\n",
              "      <td>1</td>\n",
              "      <td>0.0</td>\n",
              "    </tr>\n",
              "    <tr>\n",
              "      <th>206601</th>\n",
              "      <td>50</td>\n",
              "      <td>1.0</td>\n",
              "      <td>16.0</td>\n",
              "      <td>1</td>\n",
              "      <td>7700.0</td>\n",
              "      <td>206</td>\n",
              "      <td>1</td>\n",
              "      <td>56.0</td>\n",
              "      <td>1</td>\n",
              "      <td>6</td>\n",
              "      <td>48000.0</td>\n",
              "    </tr>\n",
              "    <tr>\n",
              "      <th>96394</th>\n",
              "      <td>26</td>\n",
              "      <td>7.0</td>\n",
              "      <td>19.0</td>\n",
              "      <td>5</td>\n",
              "      <td>7200.0</td>\n",
              "      <td>216</td>\n",
              "      <td>2</td>\n",
              "      <td>50.0</td>\n",
              "      <td>1</td>\n",
              "      <td>1</td>\n",
              "      <td>60000.0</td>\n",
              "    </tr>\n",
              "  </tbody>\n",
              "</table>\n",
              "</div>"
            ],
            "text/plain": [
              "        AGEP  COW  SCHL  MAR    OCCP  POBP  RELP  WKHP  SEX  RAC1P    PINCP\n",
              "123170    40  1.0  12.0    4  9640.0   303     0  40.0    2      8   6300.0\n",
              "366093    40  3.0  16.0    5  5240.0   316    10  40.0    2      8  36000.0\n",
              "279966    37  1.0  20.0    5  5000.0   303     5   NaN    2      1      0.0\n",
              "206601    50  1.0  16.0    1  7700.0   206     1  56.0    1      6  48000.0\n",
              "96394     26  7.0  19.0    5  7200.0   216     2  50.0    1      1  60000.0"
            ]
          },
          "execution_count": 60,
          "metadata": {},
          "output_type": "execute_result"
        }
      ],
      "source": [
        "#@markdown Import data\n",
        "data_source = ACSDataSource(survey_year='2018', horizon='1-Year', survey='person')\n",
        "acs_data = data_source.get_data(states=[\"CA\"], download=True)\n",
        "features = ACSIncome.features\n",
        "target_name = ACSIncome.target\n",
        "data = acs_data.sample(1000, random_state=39)[features+list([target_name])]\n",
        "\n",
        "print(data.shape)\n",
        "data.head()"
      ]
    },
    {
      "cell_type": "markdown",
      "metadata": {
        "id": "T5glmBPQ5OTs"
      },
      "source": [
        "## Preprocessing\n",
        "\n",
        "Similarly to the explainability lab, we will be working with a limited number of features. We will also preprocess the data by dropping N/A columns and changing the type of features, as we did for this dataset in the labs."
      ]
    },
    {
      "cell_type": "code",
      "execution_count": 61,
      "metadata": {
        "colab": {
          "base_uri": "https://localhost:8080/"
        },
        "id": "3cTZwBbtYXnJ",
        "outputId": "1e5bb6e2-630b-4432-beca-1cbb727e14cd"
      },
      "outputs": [
        {
          "name": "stdout",
          "output_type": "stream",
          "text": [
            "<class 'pandas.core.frame.DataFrame'>\n",
            "Index: 545 entries, 123170 to 242250\n",
            "Data columns (total 11 columns):\n",
            " #   Column  Non-Null Count  Dtype  \n",
            "---  ------  --------------  -----  \n",
            " 0   AGEP    545 non-null    int64  \n",
            " 1   COW     545 non-null    float64\n",
            " 2   SCHL    545 non-null    float64\n",
            " 3   MAR     545 non-null    int64  \n",
            " 4   OCCP    545 non-null    float64\n",
            " 5   POBP    545 non-null    int64  \n",
            " 6   RELP    545 non-null    int64  \n",
            " 7   WKHP    545 non-null    float64\n",
            " 8   SEX     545 non-null    int64  \n",
            " 9   RAC1P   545 non-null    int64  \n",
            " 10  PINCP   545 non-null    float64\n",
            "dtypes: float64(5), int64(6)\n",
            "memory usage: 51.1 KB\n"
          ]
        }
      ],
      "source": [
        "#@markdown Drop rows with missing values\n",
        "data.dropna(inplace=True)\n",
        "data.info()"
      ]
    },
    {
      "cell_type": "code",
      "execution_count": 62,
      "metadata": {
        "colab": {
          "base_uri": "https://localhost:8080/"
        },
        "id": "8gx4VEvYrwi9",
        "outputId": "4923862f-8626-4ca2-d65e-9736bda379ea"
      },
      "outputs": [
        {
          "name": "stdout",
          "output_type": "stream",
          "text": [
            "545\n"
          ]
        }
      ],
      "source": [
        "# @markdown Count how many people we are ranking\n",
        "population_size = data.shape[0]\n",
        "print(population_size)"
      ]
    },
    {
      "cell_type": "code",
      "execution_count": 63,
      "metadata": {
        "id": "KiZBne-zI0VZ"
      },
      "outputs": [],
      "source": [
        "#@markdown Drop non-ordinal and some sensitive categorical features\n",
        "non_ordinal_categorical_cols = ['COW','MAR','OCCP','POBP','RELP','SEX']\n",
        "data.drop(columns=non_ordinal_categorical_cols, inplace=True)"
      ]
    },
    {
      "cell_type": "code",
      "execution_count": 64,
      "metadata": {
        "colab": {
          "base_uri": "https://localhost:8080/"
        },
        "id": "pMsmDc0GYeef",
        "outputId": "027466e8-f34c-417e-9ca7-cb3a889e9a1f"
      },
      "outputs": [
        {
          "name": "stdout",
          "output_type": "stream",
          "text": [
            "<class 'pandas.core.frame.DataFrame'>\n",
            "Index: 545 entries, 123170 to 242250\n",
            "Data columns (total 5 columns):\n",
            " #   Column  Non-Null Count  Dtype   \n",
            "---  ------  --------------  -----   \n",
            " 0   AGEP    545 non-null    int64   \n",
            " 1   SCHL    545 non-null    float64 \n",
            " 2   WKHP    545 non-null    float64 \n",
            " 3   RAC1P   545 non-null    category\n",
            " 4   PINCP   545 non-null    float64 \n",
            "dtypes: category(1), float64(3), int64(1)\n",
            "memory usage: 22.1 KB\n"
          ]
        }
      ],
      "source": [
        "#@markdown Change data types of categorical features and sensitive feature we will be using.\n",
        "# @markdown Note that we will use SCHL as a numerical feature because it's ordinal\n",
        "numerical_cols = ['AGEP','WKHP', 'SCHL']\n",
        "categorical_cols = ['RAC1P']\n",
        "\n",
        "for col in categorical_cols:\n",
        "  data[col] = data[col].astype('int')\n",
        "  data[col] = data[col].astype('category')\n",
        "\n",
        "data.info()"
      ]
    },
    {
      "cell_type": "code",
      "execution_count": 65,
      "metadata": {
        "colab": {
          "base_uri": "https://localhost:8080/",
          "height": 206
        },
        "id": "IUKaF17fiRwM",
        "outputId": "dd68303f-0185-43bb-9b73-9356d4978c24"
      },
      "outputs": [
        {
          "data": {
            "text/html": [
              "<div>\n",
              "<style scoped>\n",
              "    .dataframe tbody tr th:only-of-type {\n",
              "        vertical-align: middle;\n",
              "    }\n",
              "\n",
              "    .dataframe tbody tr th {\n",
              "        vertical-align: top;\n",
              "    }\n",
              "\n",
              "    .dataframe thead th {\n",
              "        text-align: right;\n",
              "    }\n",
              "</style>\n",
              "<table border=\"1\" class=\"dataframe\">\n",
              "  <thead>\n",
              "    <tr style=\"text-align: right;\">\n",
              "      <th></th>\n",
              "      <th>AGEP</th>\n",
              "      <th>SCHL</th>\n",
              "      <th>WKHP</th>\n",
              "      <th>RAC1P</th>\n",
              "      <th>PINCP</th>\n",
              "    </tr>\n",
              "  </thead>\n",
              "  <tbody>\n",
              "    <tr>\n",
              "      <th>123170</th>\n",
              "      <td>0.363636</td>\n",
              "      <td>0.478261</td>\n",
              "      <td>0.397959</td>\n",
              "      <td>8</td>\n",
              "      <td>6300.0</td>\n",
              "    </tr>\n",
              "    <tr>\n",
              "      <th>366093</th>\n",
              "      <td>0.363636</td>\n",
              "      <td>0.652174</td>\n",
              "      <td>0.397959</td>\n",
              "      <td>8</td>\n",
              "      <td>36000.0</td>\n",
              "    </tr>\n",
              "    <tr>\n",
              "      <th>206601</th>\n",
              "      <td>0.515152</td>\n",
              "      <td>0.652174</td>\n",
              "      <td>0.561224</td>\n",
              "      <td>6</td>\n",
              "      <td>48000.0</td>\n",
              "    </tr>\n",
              "    <tr>\n",
              "      <th>96394</th>\n",
              "      <td>0.151515</td>\n",
              "      <td>0.782609</td>\n",
              "      <td>0.500000</td>\n",
              "      <td>1</td>\n",
              "      <td>60000.0</td>\n",
              "    </tr>\n",
              "    <tr>\n",
              "      <th>232318</th>\n",
              "      <td>0.393939</td>\n",
              "      <td>0.869565</td>\n",
              "      <td>0.500000</td>\n",
              "      <td>9</td>\n",
              "      <td>55000.0</td>\n",
              "    </tr>\n",
              "  </tbody>\n",
              "</table>\n",
              "</div>"
            ],
            "text/plain": [
              "            AGEP      SCHL      WKHP RAC1P    PINCP\n",
              "123170  0.363636  0.478261  0.397959     8   6300.0\n",
              "366093  0.363636  0.652174  0.397959     8  36000.0\n",
              "206601  0.515152  0.652174  0.561224     6  48000.0\n",
              "96394   0.151515  0.782609  0.500000     1  60000.0\n",
              "232318  0.393939  0.869565  0.500000     9  55000.0"
            ]
          },
          "execution_count": 65,
          "metadata": {},
          "output_type": "execute_result"
        }
      ],
      "source": [
        "#@markdown Standardize numerical features, we will use a min-max scaler because we use linear weighted functions\n",
        "scaler = MinMaxScaler()\n",
        "data[numerical_cols] = scaler.fit_transform(data[numerical_cols])\n",
        "data.head()"
      ]
    },
    {
      "cell_type": "code",
      "execution_count": 66,
      "metadata": {
        "colab": {
          "base_uri": "https://localhost:8080/"
        },
        "id": "r1pGyx3eYsWV",
        "outputId": "aa931d1a-f78d-4a29-b557-6991e503698d"
      },
      "outputs": [
        {
          "name": "stdout",
          "output_type": "stream",
          "text": [
            "AGEP :  62\n",
            "SCHL :  20\n",
            "WKHP :  48\n",
            "RAC1P :  7\n",
            "PINCP :  264\n"
          ]
        }
      ],
      "source": [
        "# @markdown View number of unique values per feature\n",
        "for col in data.columns:\n",
        "    print(col,\": \",data[col].nunique())"
      ]
    },
    {
      "cell_type": "code",
      "execution_count": 67,
      "metadata": {
        "id": "wwrJTz1yY4XE"
      },
      "outputs": [],
      "source": [
        "#@markdown Here we will drop the target variable as well because in our scenario\n",
        "#@markdown we define our own target variables.\n",
        "data.drop(columns=['PINCP'], inplace=True)"
      ]
    },
    {
      "cell_type": "markdown",
      "metadata": {
        "id": "spIVkKyS8L1U"
      },
      "source": [
        "# Using ShaRP to calculate feature importance"
      ]
    },
    {
      "cell_type": "markdown",
      "metadata": {
        "id": "2f_PJxay8VWI"
      },
      "source": [
        "## Different ranking functions"
      ]
    },
    {
      "cell_type": "markdown",
      "metadata": {
        "id": "N31W8Bow8umw"
      },
      "source": [
        "We will define three  ranking functions on Age, Work hours per week and education (`AGEP`, `SCHL`, `WKHP`). We use these features because we define numerical functions here and they are either continuous or ordinal categorical.\n",
        "\n",
        "Note that each function places higher weight in one of the features."
      ]
    },
    {
      "cell_type": "code",
      "execution_count": 68,
      "metadata": {
        "id": "bT6Oo2VRZFh2"
      },
      "outputs": [],
      "source": [
        "#@markdown Define the scoring function and calculate the scores of all individuals\n",
        "def score_function_SCHL(X):\n",
        "    # AGEP, SCHL, WKHP\n",
        "    return 0.2 * X[:, 0] + 0.6 * X[:, 1] + 0.2 * X[:, 2]\n",
        "\n",
        "def score_function_WKHP(X):\n",
        "    # AGEP, SCHL, WKHP\n",
        "    return 0.2 * X[:, 0] + 0.2 * X[:, 1] + 0.6 * X[:, 2]\n",
        "\n",
        "def score_function_AGEP(X):\n",
        "    # AGEP, SCHL, WKHP\n",
        "    return 0.6 * X[:, 0] + 0.2 * X[:, 1] + 0.2 * X[:, 2]"
      ]
    },
    {
      "cell_type": "code",
      "execution_count": 69,
      "metadata": {
        "id": "xE0e6Zv_8lc5"
      },
      "outputs": [],
      "source": [
        "# @markdown Save the dataframe into a numpy array called X and calculate the\n",
        "# @markdown target scores for all functions\n",
        "X = data.to_numpy()\n",
        "y_SCHL = score_function_SCHL(X)\n",
        "y_WKHP = score_function_WKHP(X)\n",
        "y_AGEP = score_function_AGEP(X)"
      ]
    },
    {
      "cell_type": "markdown",
      "metadata": {
        "id": "g2jtOdDs9zzJ"
      },
      "source": [
        "## Define a ShaRP object for each function\n",
        "\n",
        "We will use an approximation to calculate feature importance faster. To do so, we use the parameter `sample_size`. See the [QII paper](https://ieeexplore.ieee.org/document/7546525) for more details on the number of samples and approximation error."
      ]
    },
    {
      "cell_type": "code",
      "execution_count": 70,
      "metadata": {
        "id": "vyuiboQ6ZIET"
      },
      "outputs": [],
      "source": [
        "# @markdown ShaRP object for the first (SCHL) score function\n",
        "sharp_ranking_SCHL = ShaRP(\n",
        "    qoi=\"rank\",\n",
        "    target_function=score_function_SCHL,\n",
        "    measure=\"shapley\",\n",
        "    sample_size=150,\n",
        "    replace=False,\n",
        "    random_state=42,\n",
        ")\n",
        "\n",
        "sharp_ranking_SCHL.fit(X)"
      ]
    },
    {
      "cell_type": "code",
      "execution_count": 71,
      "metadata": {
        "id": "WbtBRaw7-Ztb"
      },
      "outputs": [],
      "source": [
        "sharp_ranking_WKHP = ShaRP(\n",
        "    qoi=\"rank\",\n",
        "    target_function=score_function_WKHP,\n",
        "    measure=\"shapley\",\n",
        "    sample_size=150,\n",
        "    replace=False,\n",
        "    random_state=42,\n",
        ")\n",
        "\n",
        "sharp_ranking_WKHP.fit(X)"
      ]
    },
    {
      "cell_type": "code",
      "execution_count": 72,
      "metadata": {
        "id": "PkwQOmXW6mal"
      },
      "outputs": [],
      "source": [
        "sharp_ranking_AGEP = ShaRP(\n",
        "    qoi=\"rank\",\n",
        "    target_function=score_function_AGEP,\n",
        "    measure=\"shapley\",\n",
        "    sample_size=150,\n",
        "    replace=False,\n",
        "    random_state=42,\n",
        ")\n",
        "\n",
        "sharp_ranking_AGEP.fit(X)"
      ]
    },
    {
      "cell_type": "markdown",
      "metadata": {
        "id": "Sz1MMzaO_hxF"
      },
      "source": [
        "## Item order per function\n",
        "\n",
        "The ranked order of the data points depends on the ranking function. Let's calculate the ranking defined by each function."
      ]
    },
    {
      "cell_type": "code",
      "execution_count": 73,
      "metadata": {
        "colab": {
          "base_uri": "https://localhost:8080/"
        },
        "id": "qk4LgSBj1nEv",
        "outputId": "10c45aa1-c104-4bf6-fca3-946c422b79c6"
      },
      "outputs": [
        {
          "data": {
            "text/plain": [
              "array([406, 336,  63, 220,  88, 343, 183, 281, 342, 433, 541, 162, 377,\n",
              "       376, 129, 324, 266, 216, 464, 362,  67,  98, 320, 138, 439, 521,\n",
              "       185, 182, 420, 234, 127, 164, 530, 355, 476, 338, 472,  32, 214,\n",
              "       363, 482,  49, 329, 461, 326, 542,  77, 354, 365, 516, 287, 471,\n",
              "        48, 175, 435, 289, 350, 414,  65, 453, 490,  96, 115, 410, 534,\n",
              "       479, 132, 348, 402, 274, 403, 148, 399, 249,  79, 407,  21, 366,\n",
              "       361, 485, 269,  82, 493,  52, 114, 416, 202, 337, 252, 298, 211,\n",
              "       405, 255, 305, 290, 261, 459,  15,  28, 522,  29, 455, 257, 469,\n",
              "       119, 207,  25, 346,  34, 307, 378, 514, 180, 451, 495, 263,  19,\n",
              "        17, 386, 312, 474, 245, 396, 391,  69, 371, 155, 120, 204, 124,\n",
              "       158, 141,  75, 392,  47, 369, 126,   4, 533, 169, 425, 235,   6,\n",
              "        51, 197,  24, 221, 519, 225, 520, 273, 349, 341, 432, 335, 208,\n",
              "       452,  14, 467, 529, 528, 325, 508,  53, 487, 195, 382, 454, 201,\n",
              "       418, 470, 351, 135,  43,  39, 253,  35,  61, 477, 267, 176, 539,\n",
              "       270, 309,  41, 265,  33,  92, 259, 143, 491, 492,  73, 456, 353,\n",
              "       532, 436, 295, 424,  91, 233,  87, 430, 260, 443,  36, 370,  86,\n",
              "       322, 330, 545,   9, 284,  18, 123, 241, 428,  30,  54, 413, 515,\n",
              "       484, 165, 109, 327, 409, 504, 239, 438, 356, 352, 283, 393, 527,\n",
              "         2, 316, 280, 466, 540, 394, 340,  37, 113,  90, 170, 178, 531,\n",
              "       133, 108,  83,  74, 437, 426, 441, 121, 188, 210, 319, 100, 145,\n",
              "       400, 537, 384, 478, 144, 359, 374, 496, 193, 243, 536, 251, 156,\n",
              "       364, 242, 525, 271, 387, 506, 279,  38,  12, 231, 157, 177, 357,\n",
              "       317, 419, 223, 494, 254, 149, 264, 460, 196, 535, 288, 385, 103,\n",
              "       206,  62, 272, 101, 339,  20,  45,  46,  31, 184,  27, 134, 332,\n",
              "        76,  66, 130,  70,  59, 513, 152, 168,  22, 328, 140,   3,  57,\n",
              "       226, 300, 427, 398,  10, 219, 150, 360, 440, 397, 408, 303, 431,\n",
              "       524, 310, 505, 311, 192,  26, 236, 117, 498, 277, 297, 401, 481,\n",
              "        56, 381,  99, 372, 500,  11, 292, 194, 262,  81,  89,  16, 229,\n",
              "       200, 217, 390, 203, 137,  95, 154, 299, 240, 102, 302, 465, 187,\n",
              "       526, 122, 163, 415, 166, 423, 268, 308, 344, 181, 116, 118, 296,\n",
              "       278, 457, 503,  72, 473, 501, 291, 458, 151,  55,  23, 212, 248,\n",
              "       190, 215,  80, 222, 232,   5, 106, 422, 518, 104, 125, 380, 247,\n",
              "       367, 517, 301, 373, 313,  71, 205, 275, 306, 411,  85, 512, 139,\n",
              "       136, 499, 146, 379, 447, 213, 395, 507,  42,  68,  13, 246,   1,\n",
              "       444, 228, 172,   7, 321, 110, 258, 179, 107, 462,  93,  97, 314,\n",
              "       412, 511, 318, 159, 173, 389, 230, 199, 293, 383, 128, 147, 189,\n",
              "       160,   8, 489, 238,  58, 486, 315, 333, 375, 497, 449, 480, 345,\n",
              "       347, 502, 111, 282, 358, 209, 544, 421, 429, 475, 331, 463, 244,\n",
              "       112, 523, 509,  64, 483, 334,  60, 131, 323, 388, 368, 218, 256,\n",
              "       286, 186, 105, 276, 445, 191,  40, 468, 171, 446, 538, 237, 510,\n",
              "       488, 224, 442,  50, 404, 167, 153, 304, 250, 434, 227,  78, 417,\n",
              "       294,  94, 142, 161, 285, 174, 448, 198,  84, 450,  44, 543])"
            ]
          },
          "execution_count": 73,
          "metadata": {},
          "output_type": "execute_result"
        }
      ],
      "source": [
        "order_WKHP = scores_to_ordering(y_WKHP)\n",
        "order_WKHP"
      ]
    },
    {
      "cell_type": "code",
      "execution_count": null,
      "metadata": {
        "id": "8wJQb8PsI8Wd"
      },
      "outputs": [],
      "source": []
    },
    {
      "cell_type": "code",
      "execution_count": 74,
      "metadata": {
        "colab": {
          "base_uri": "https://localhost:8080/"
        },
        "id": "u9iHflLLZKpi",
        "outputId": "e1d2d572-d503-42d7-c14a-fced38a9e298"
      },
      "outputs": [
        {
          "data": {
            "text/plain": [
              "array([493, 425, 324, 333, 129, 450, 113, 237, 536, 487, 523, 172, 509,\n",
              "       526,  99, 185, 226, 387, 117, 250,  41, 403, 264,  30, 357, 320,\n",
              "       229, 114, 459, 231, 134, 127, 396, 388, 538, 503, 521,  73, 142,\n",
              "       520, 419, 317, 273, 532, 371, 465,  95, 126, 504, 390, 347, 416,\n",
              "        78, 103, 469, 312, 435, 472,  37, 443, 485,  96,  89, 519, 479,\n",
              "       535, 145, 282, 338, 365, 244, 299, 288, 171, 361, 449,  21, 359,\n",
              "       241, 246, 121, 110, 507,  27, 177, 455, 175, 407, 346, 495, 182,\n",
              "       414, 266, 252, 313, 181, 151,  57, 104, 489,  56, 364, 280, 458,\n",
              "       168,  58,  23, 285,  31, 116, 404, 441, 147, 478, 415, 391,  36,\n",
              "        25, 289, 221, 537, 309, 444, 442,  18, 517,  81, 135, 123, 176,\n",
              "       236, 188, 234, 392,   7, 249, 190,  13, 541, 245, 463, 196,  10,\n",
              "        52, 124,  39, 259, 525, 223, 545, 399, 283, 300, 326, 426, 348,\n",
              "       529,  16, 500, 440, 412, 421, 476, 291, 335, 192, 186, 169, 178,\n",
              "       281, 527, 432, 109,  54,   8, 319,  14, 164, 518, 191, 323, 531,\n",
              "       233, 352, 132, 228, 106, 214, 215, 152, 287, 474,  67, 363, 434,\n",
              "       452, 353, 411, 492, 522, 260,  48, 219, 216, 513,  43, 256, 382,\n",
              "       230, 274, 508,   1, 405,  17,  93, 204, 303,  29, 150, 502, 544,\n",
              "       367,  71, 158, 337, 497, 542, 301, 454, 389, 433, 423, 321, 439,\n",
              "       179, 393, 306, 501, 482, 205, 345,  26, 251,  98, 210,  19, 477,\n",
              "       153, 195, 122,  40, 295, 510, 331, 130, 155, 220, 330, 159, 118,\n",
              "       515, 471, 410, 499, 107, 325, 212, 422, 366, 373, 456, 339,  82,\n",
              "       384, 163, 498, 201, 512, 437, 305,  11,   4, 297, 302, 322, 394,\n",
              "       372, 473, 262, 430, 318, 232, 227, 385, 125, 457, 340, 379, 148,\n",
              "       383, 350, 506,  60, 344,   5,  32, 208, 293,  45,   6, 108, 242,\n",
              "       207,  94, 243, 137, 102, 468, 211,  28,  83, 294, 187,   2,  47,\n",
              "       224, 349, 398, 413,  35, 327, 199, 292,  33, 431, 505, 253, 445,\n",
              "       494, 258, 375, 222, 406, 101, 197,  88, 539, 307, 496, 400, 420,\n",
              "        46, 451,  22, 370, 481,   3, 311, 316, 180,  44,  20, 162, 358,\n",
              "       278,  77, 276, 174,  63,  97, 161, 380, 235,  59, 263, 362, 193,\n",
              "       395,  92, 128, 239,  91, 533, 136, 351, 429, 146,  87, 209,  65,\n",
              "       304, 290, 424, 111, 484, 453, 314, 462, 200,  62,  34, 144, 170,\n",
              "       157, 105, 377, 261, 461,  15,  70, 376, 524,  68, 189, 286, 275,\n",
              "       360, 490, 480, 334, 173, 112, 133,  66, 218,  84,  85, 268,  12,\n",
              "        64, 409, 119, 374, 194, 143, 448, 427, 115, 269,   9, 308,  76,\n",
              "       401, 149, 139, 332, 265, 131, 257, 184,  49, 467, 203,  51, 428,\n",
              "       402, 486, 329, 217, 138, 267, 296, 315, 248, 438, 100,  72, 156,\n",
              "       167, 198, 491, 369,  24, 514, 418, 213, 446, 255, 534, 540, 381,\n",
              "       284, 417,  80, 238, 355, 277, 543, 460, 466, 408, 272, 436,  90,\n",
              "        79, 488, 336,  50, 397, 202,  61, 165, 516, 386, 298, 354, 279,\n",
              "       356, 183,  69, 341,  74, 120,  38, 225,  42, 475, 530, 368, 483,\n",
              "       528, 240, 511,  53, 447, 310, 160, 254, 378, 470, 154,  75, 270,\n",
              "       247, 141, 206, 166,  55, 140, 328, 343,  86, 342, 271, 464])"
            ]
          },
          "execution_count": 74,
          "metadata": {},
          "output_type": "execute_result"
        }
      ],
      "source": [
        "# @markdown Order of data points based on the first scoring function\n",
        "order_SCHL = scores_to_ordering(y_SCHL)\n",
        "order_SCHL"
      ]
    },
    {
      "cell_type": "code",
      "execution_count": 75,
      "metadata": {
        "colab": {
          "base_uri": "https://localhost:8080/"
        },
        "id": "dWTLWaqm6pd8",
        "outputId": "e4fb3411-45be-4cbe-b264-a900e01ed6e4"
      },
      "outputs": [
        {
          "data": {
            "text/plain": [
              "array([386, 342, 178, 431, 228, 306, 237, 382, 324, 482, 543, 290, 241,\n",
              "       512, 136, 225, 358, 251,  21, 255, 107, 374, 423, 213,  48, 353,\n",
              "       174, 236, 489, 283, 108, 176, 493, 404, 335, 449, 499, 190, 300,\n",
              "       170, 505, 181, 440, 450, 380, 532, 169, 182, 242, 509, 434, 501,\n",
              "        62, 223, 511, 348, 368, 274,  95, 393, 508, 151, 109, 339, 536,\n",
              "       461, 121, 456, 454, 153, 419,  52, 337, 351, 161, 465,  49, 436,\n",
              "       124, 238, 207,  23, 126, 149, 315, 483, 267, 369, 231, 129, 284,\n",
              "       441,  38, 399, 349, 360,  58, 112,  13, 528, 171, 470, 292, 452,\n",
              "       295, 117,  16, 459,  31,  71, 435, 523, 212, 525, 479, 229,  79,\n",
              "        89, 127, 425, 318, 249, 433, 417,  40, 338, 188, 219,  42,  81,\n",
              "       103, 105, 277, 484,  12, 137, 341,   1, 387, 118, 495, 298,   3,\n",
              "       101, 268,  20, 233, 448, 264, 541, 261, 457, 296, 302, 343, 148,\n",
              "       428,  35, 519, 500, 517, 325, 475, 226, 276,  85, 202, 204, 150,\n",
              "       410, 481, 367, 144,  36,   5, 263,   2, 116, 518, 384,  91, 544,\n",
              "       372, 344,  27, 357,  44,  80, 331, 134, 354, 497, 115, 471, 366,\n",
              "       530, 464, 288, 442, 102, 252, 141, 227, 332, 451,  68, 271, 319,\n",
              "       334, 439, 542,   4, 280,  29, 123, 309, 447,  28, 322, 402, 529,\n",
              "       355,  17,  56, 398, 396, 491, 232, 463, 405, 365, 245, 415, 494,\n",
              "       130, 209, 328, 520, 514, 113, 407,  54, 278, 281, 140,  69, 538,\n",
              "       250,  37, 216,  30, 203, 506, 189, 200, 221, 253, 389, 287, 156,\n",
              "       304, 515, 444, 224,  39, 446, 147, 498,  90, 193, 533, 104, 187,\n",
              "       165, 333, 539, 394, 275, 524, 327,  24,  19, 218,  63,  92, 503,\n",
              "       474, 473, 371, 513, 262,  94, 359,  88, 269, 534, 413, 466,  46,\n",
              "       131, 272, 279,  77, 406,   8,  93, 240,  59, 158,  10, 145, 460,\n",
              "       412,  65, 239,  53,  86, 411, 379,  66,  34, 285, 106,  41, 163,\n",
              "       265, 114, 478, 235,  11, 314, 119, 469,  18, 210, 377, 401, 421,\n",
              "       537, 408, 507, 426, 323, 273, 297, 111, 307, 330, 128, 496, 504,\n",
              "        45, 487,  51, 445, 522,  15, 347, 397, 361,  32, 138, 214, 173,\n",
              "       185, 260, 311, 266, 166, 152, 142, 308, 293,  76, 430, 257, 195,\n",
              "       409, 122, 175, 303, 199, 286, 146, 345, 356, 211, 110,  55,  25,\n",
              "       329,  67, 480, 192, 429, 395, 346, 381, 120, 132,  61, 299, 350,\n",
              "       220, 317, 313, 370,  70,  33,  83,  98, 336,  84, 340, 443, 282,\n",
              "       437, 535, 172, 468,  87, 191, 294, 201, 414,  14, 247, 243,   6,\n",
              "       167, 427, 157, 455,  50, 301, 472, 486, 258,  47,  26, 248, 133,\n",
              "       159, 310, 197, 416, 424, 326, 420, 186, 234, 490, 168,  57, 362,\n",
              "       492, 526, 390, 388, 198, 180, 217, 164, 391, 403, 135, 177, 222,\n",
              "       154,  64, 467, 184, 208, 540, 316, 289, 378, 244, 375, 352, 485,\n",
              "       458, 462,  96, 383, 422,  75, 432, 488, 502, 376, 438, 179, 385,\n",
              "        97, 527,  99,  74, 320, 373,   9,  60, 125, 476, 477, 162, 291,\n",
              "       256,  78,  82, 418,   7, 254,  43, 215, 270, 521, 545, 183, 516,\n",
              "       363, 305, 205, 100, 453,  73, 143, 400, 206, 510, 194, 230, 160,\n",
              "       392, 259, 364, 155,  22, 196,  72, 139, 246, 321, 312, 531])"
            ]
          },
          "execution_count": 75,
          "metadata": {},
          "output_type": "execute_result"
        }
      ],
      "source": [
        "order_AGEP = scores_to_ordering(y_AGEP)\n",
        "order_AGEP"
      ]
    },
    {
      "cell_type": "markdown",
      "metadata": {
        "id": "e9RMS0Vc_NVF"
      },
      "source": [
        "## Item explainability for multiple functions\n",
        "\n",
        "Now we will select the person ranked 100th using the first function, and explain their featre importance under ALL functions"
      ]
    },
    {
      "cell_type": "markdown",
      "metadata": {
        "id": "j_efiN2QAbqI"
      },
      "source": [
        "## TODO: Part (a)"
      ]
    },
    {
      "cell_type": "markdown",
      "metadata": {
        "id": "kdygVvBVmYoh"
      },
      "source": [
        "### Part (i)"
      ]
    },
    {
      "cell_type": "code",
      "execution_count": 76,
      "metadata": {
        "id": "wS4ByEg2mbHJ"
      },
      "outputs": [],
      "source": [
        "# Select the 100th ranked individual according to sharp_ranking_SCHL\n",
        "i100 = data.iloc[order_SCHL[100]]\n"
      ]
    },
    {
      "cell_type": "code",
      "execution_count": 77,
      "metadata": {
        "id": "DIbqjL7qnDku"
      },
      "outputs": [
        {
          "name": "stdout",
          "output_type": "stream",
          "text": [
            "Rank of individual AGEP     0.333333\n",
            "SCHL     0.652174\n",
            "WKHP     0.397959\n",
            "RAC1P    2.000000\n",
            "Name: 34453, dtype: float64 according to sharp_ranking_WKHP:\n",
            "351\n"
          ]
        }
      ],
      "source": [
        "# Find that individual's rank according to sharp_ranking_WKHP\n",
        "print(f\"Rank of individual {i100} according to sharp_ranking_WKHP:\")\n",
        "print(np.where(order_WKHP == order_SCHL[100])[0][0])"
      ]
    },
    {
      "cell_type": "code",
      "execution_count": 78,
      "metadata": {
        "id": "MUc_4yAHnHZH"
      },
      "outputs": [
        {
          "name": "stdout",
          "output_type": "stream",
          "text": [
            "Rank of individual AGEP     0.333333\n",
            "SCHL     0.652174\n",
            "WKHP     0.397959\n",
            "RAC1P    2.000000\n",
            "Name: 34453, dtype: float64 according to sharp_ranking_AGEP:\n",
            "223\n"
          ]
        }
      ],
      "source": [
        "# Find that individual's rank according to sharp_ranking_AGEP\n",
        "print(f\"Rank of individual {i100} according to sharp_ranking_AGEP:\")\n",
        "print(np.where(order_AGEP == order_SCHL[100])[0][0])"
      ]
    },
    {
      "cell_type": "code",
      "execution_count": 79,
      "metadata": {
        "id": "JBtHFwNmJOtH"
      },
      "outputs": [
        {
          "name": "stdout",
          "output_type": "stream",
          "text": [
            "Individual 101 according to sharp_ranking_SCHL:\n",
            "AGEP     0.530303\n",
            "SCHL     0.739130\n",
            "WKHP     0.397959\n",
            "RAC1P    1.000000\n",
            "Name: 32532, dtype: float64\n",
            "\n",
            "\n",
            "Rank of individual 101 according to sharp_ranking_WKHP:\n",
            "273\n",
            "\n",
            "\n",
            "Rank of individual 101 according to sharp_ranking_AGEP:\n",
            "535\n",
            "\n",
            "\n"
          ]
        }
      ],
      "source": [
        "# Do the above for another individual\n",
        "print(f\"Individual {101} according to sharp_ranking_SCHL:\")\n",
        "print(data.iloc[order_SCHL[101]])\n",
        "print(\"\\n\")\n",
        "print(f\"Rank of individual {101} according to sharp_ranking_WKHP:\")\n",
        "print(np.where(order_WKHP == order_SCHL[101])[0][0])\n",
        "print(\"\\n\")\n",
        "print(f\"Rank of individual {101} according to sharp_ranking_AGEP:\")\n",
        "print(np.where(order_AGEP == order_SCHL[101])[0][0])\n",
        "print(\"\\n\")"
      ]
    },
    {
      "cell_type": "markdown",
      "metadata": {
        "id": "n9yj--uqnJtE"
      },
      "source": [
        "### Part (ii)"
      ]
    },
    {
      "cell_type": "code",
      "execution_count": 80,
      "metadata": {
        "id": "nXqWKGVEmdXF"
      },
      "outputs": [
        {
          "data": {
            "image/png": "[encoded data removed]",
            "text/plain": [
              "<Figure size 640x480 with 3 Axes>"
            ]
          },
          "execution_count": 80,
          "metadata": {},
          "output_type": "execute_result"
        }
      ],
      "source": [
        "# Inspect the individual feature contributions (waterfall plot) for the 100th ranked individual for sharp_ranking_SCHL\n",
        "sharp_ranking_SCHL.plot.waterfall(X[order_SCHL[101]], data.columns)\n"
      ]
    },
    {
      "cell_type": "code",
      "execution_count": 81,
      "metadata": {
        "id": "o8heHpW2moEs"
      },
      "outputs": [
        {
          "data": {
            "image/png": "[encoded data removed]",
            "text/plain": [
              "<Figure size 640x480 with 5 Axes>"
            ]
          },
          "execution_count": 81,
          "metadata": {},
          "output_type": "execute_result"
        }
      ],
      "source": [
        "# Inspect the individual feature contributions (waterfall plot) for the 100th ranked individual for sharp_ranking_WKHP\n",
        "sharp_ranking_WKHP.plot.waterfall(X[order_WKHP[101]], data.columns)"
      ]
    },
    {
      "cell_type": "code",
      "execution_count": 82,
      "metadata": {
        "id": "7Z3ZmUfTmoWQ"
      },
      "outputs": [
        {
          "data": {
            "image/png": "[encoded data removed]",
            "text/plain": [
              "<Figure size 640x480 with 7 Axes>"
            ]
          },
          "execution_count": 82,
          "metadata": {},
          "output_type": "execute_result"
        }
      ],
      "source": [
        "# Inspect the individual feature contributions (waterfall plot) for the 100th ranked individual for sharp_ranking_AGEP\n",
        "sharp_ranking_AGEP.plot.waterfall(X[order_AGEP[101]], data.columns)"
      ]
    },
    {
      "cell_type": "markdown",
      "metadata": {
        "id": "RfP8DFz188bw"
      },
      "source": [
        "## TODO: Part (b)\n",
        "\n",
        "### Part (i)\n",
        "\n",
        "Now we will calculate the feature importances based on groups defined by the sensitive attribute. We will select one ranking function for this question and calculate the rank QoI feature importances for the top 20%."
      ]
    },
    {
      "cell_type": "code",
      "execution_count": 83,
      "metadata": {
        "colab": {
          "base_uri": "https://localhost:8080/",
          "height": 206
        },
        "id": "tupsUFwSo9va",
        "outputId": "a0f8b03c-b431-4f45-860e-f72cabb0a915"
      },
      "outputs": [
        {
          "data": {
            "text/html": [
              "<div>\n",
              "<style scoped>\n",
              "    .dataframe tbody tr th:only-of-type {\n",
              "        vertical-align: middle;\n",
              "    }\n",
              "\n",
              "    .dataframe tbody tr th {\n",
              "        vertical-align: top;\n",
              "    }\n",
              "\n",
              "    .dataframe thead th {\n",
              "        text-align: right;\n",
              "    }\n",
              "</style>\n",
              "<table border=\"1\" class=\"dataframe\">\n",
              "  <thead>\n",
              "    <tr style=\"text-align: right;\">\n",
              "      <th></th>\n",
              "      <th>AGEP</th>\n",
              "      <th>SCHL</th>\n",
              "      <th>WKHP</th>\n",
              "      <th>RAC1P</th>\n",
              "      <th>RANK</th>\n",
              "    </tr>\n",
              "  </thead>\n",
              "  <tbody>\n",
              "    <tr>\n",
              "      <th>123170</th>\n",
              "      <td>0.363636</td>\n",
              "      <td>0.478261</td>\n",
              "      <td>0.397959</td>\n",
              "      <td>8</td>\n",
              "      <td>493</td>\n",
              "    </tr>\n",
              "    <tr>\n",
              "      <th>366093</th>\n",
              "      <td>0.363636</td>\n",
              "      <td>0.652174</td>\n",
              "      <td>0.397959</td>\n",
              "      <td>8</td>\n",
              "      <td>425</td>\n",
              "    </tr>\n",
              "    <tr>\n",
              "      <th>206601</th>\n",
              "      <td>0.515152</td>\n",
              "      <td>0.652174</td>\n",
              "      <td>0.561224</td>\n",
              "      <td>6</td>\n",
              "      <td>324</td>\n",
              "    </tr>\n",
              "    <tr>\n",
              "      <th>96394</th>\n",
              "      <td>0.151515</td>\n",
              "      <td>0.782609</td>\n",
              "      <td>0.500000</td>\n",
              "      <td>1</td>\n",
              "      <td>333</td>\n",
              "    </tr>\n",
              "    <tr>\n",
              "      <th>232318</th>\n",
              "      <td>0.393939</td>\n",
              "      <td>0.869565</td>\n",
              "      <td>0.500000</td>\n",
              "      <td>9</td>\n",
              "      <td>129</td>\n",
              "    </tr>\n",
              "  </tbody>\n",
              "</table>\n",
              "</div>"
            ],
            "text/plain": [
              "            AGEP      SCHL      WKHP RAC1P  RANK\n",
              "123170  0.363636  0.478261  0.397959     8   493\n",
              "366093  0.363636  0.652174  0.397959     8   425\n",
              "206601  0.515152  0.652174  0.561224     6   324\n",
              "96394   0.151515  0.782609  0.500000     1   333\n",
              "232318  0.393939  0.869565  0.500000     9   129"
            ]
          },
          "execution_count": 83,
          "metadata": {},
          "output_type": "execute_result"
        }
      ],
      "source": [
        "# @markdown Add the rank to the dataframe\n",
        "data['RANK'] = order_SCHL\n",
        "\n",
        "data.head()"
      ]
    },
    {
      "cell_type": "code",
      "execution_count": 84,
      "metadata": {
        "id": "PyBDLcGD71FB"
      },
      "outputs": [],
      "source": [
        "# # @markdown Function that will split feature explanations into different strata.\n",
        "# # @markdown For this question we only look at the top 20% and plot the conributions\n",
        "# # @markdown in 10% strata.\n",
        "\n",
        "# Note that s is the ranks of the individuals (you can find this using the scores_to_ordering utility function, see Lab 8 for an example)\n",
        "def make_boxplot_top20(df, X, s):\n",
        "  buckets = 2\n",
        "  rows = max(s)\n",
        "  df['My Rank'] = s\n",
        "  df['Rank Bucket'] = [\"0-\\n10%\" if math.floor((rank - 1) / (rows / buckets)) == 0 else str(math.floor((rank - 1) / (rows / buckets)) * 10) + \"-\\n\" + str(math.floor(((rank - 1) / (rows / buckets)) + 1) * 10) + \"%\" for rank in df['My Rank']]\n",
        "  df.sort_values(by=['Rank Bucket'],inplace=True)\n",
        "  yaxis_order = list(df.sort_values(by=['Rank Bucket'])['Rank Bucket'].unique())\n",
        "\n",
        "  df = (\n",
        "      df\n",
        "      .drop(columns=[\"My Rank\"])\n",
        "      .melt(id_vars=[\"Rank Bucket\"])\n",
        "      .rename(columns={\"variable\": \"Feature\", \"value\": \"Contribution\"})\n",
        "  )\n",
        "\n",
        "  plot_df = df.copy()\n",
        "\n",
        "  plot_df[\"Rank Bucket\"] = plot_df[\"Rank Bucket\"].str.replace(\"%\", \"\\%\").str.replace(\"<\", \"$<$\")\n",
        "\n",
        "  graph = sns.boxplot(x = plot_df['Rank Bucket'], y = plot_df['Contribution'], hue = plot_df['Feature'], palette = \"Set2\")\n",
        "  sns.move_legend(\n",
        "      graph, \"lower center\", bbox_to_anchor=(1, 1.05), ncol=4, title=None, frameon=False, labels=[\"AGEP\",'WKHP',\"SCHL\"]\n",
        "  )\n",
        "  plt.setp(graph.patches, linewidth=1)\n",
        "  graph.set_xlabel(\"Rank stratum\\n(a)\")\n",
        "\n",
        "  plt.show()"
      ]
    },
    {
      "cell_type": "markdown",
      "metadata": {
        "id": "Qt32tLEHqC6T"
      },
      "source": [
        "Below is a usage example for this function given an X and y as they are created in this assignment:\n",
        "\n",
        "\n",
        "```\n",
        "# NEW\n",
        "sharp_ranking_SCHL_not_white = ShaRP(\n",
        "    qoi=\"rank\",\n",
        "    target_function=score_function_SCHL,\n",
        "    measure=\"shapley\",\n",
        "    sample_size=None,\n",
        "    replace=False,\n",
        "    random_state=42,\n",
        ")\n",
        "X = data_non_white.drop(columns=['RAC1P', 'RANK']).to_numpy()\n",
        "ranks = data_non_white['RANK'].to_numpy()\n",
        "sharp_ranking_SCHL_not_white.fit(X)\n",
        "df = pd.DataFrame(sharp_ranking_SCHL_not_white.all(X))\n",
        "make_boxplot_top20(df,X, ranks)\n",
        "```\n",
        "\n"
      ]
    },
    {
      "cell_type": "code",
      "execution_count": 85,
      "metadata": {
        "id": "FeeqjjUOos_8"
      },
      "outputs": [
        {
          "name": "stdout",
          "output_type": "stream",
          "text": [
            "(108, 5)\n",
            "(66, 5)\n",
            "(42, 5)\n"
          ]
        },
        {
          "name": "stderr",
          "output_type": "stream",
          "text": [
            "C:\\Users\\kojil\\AppData\\Local\\Temp\\ipykernel_7612\\2667426019.py:3: SettingWithCopyWarning: \n",
            "A value is trying to be set on a copy of a slice from a DataFrame.\n",
            "Try using .loc[row_indexer,col_indexer] = value instead\n",
            "\n",
            "See the caveats in the documentation: https://pandas.pydata.org/pandas-docs/stable/user_guide/indexing.html#returning-a-view-versus-a-copy\n",
            "  top20['RAC1P'] = top20['RAC1P'].astype('int')\n",
            "C:\\Users\\kojil\\AppData\\Local\\Temp\\ipykernel_7612\\2667426019.py:4: SettingWithCopyWarning: \n",
            "A value is trying to be set on a copy of a slice from a DataFrame.\n",
            "Try using .loc[row_indexer,col_indexer] = value instead\n",
            "\n",
            "See the caveats in the documentation: https://pandas.pydata.org/pandas-docs/stable/user_guide/indexing.html#returning-a-view-versus-a-copy\n",
            "  top20['RAC1P'] = top20['RAC1P'].astype('category')\n"
          ]
        }
      ],
      "source": [
        "# Split the top-20% into two new dataframes (white and non-white) using the race feature\n",
        "top20 = data[data['RANK'] < population_size * 0.2]\n",
        "top20['RAC1P'] = top20['RAC1P'].astype('int')\n",
        "top20['RAC1P'] = top20['RAC1P'].astype('category')\n",
        "top20['RAC1P'].value_counts()\n",
        "\n",
        "top20_white = top20[top20['RAC1P'] == 1]\n",
        "top20_non_white = top20[top20['RAC1P'] != 1]\n",
        "\n",
        "# double check that the split is correct\n",
        "print(top20.shape)\n",
        "print(top20_white.shape)\n",
        "print(top20_non_white.shape)\n"
      ]
    },
    {
      "cell_type": "code",
      "execution_count": 86,
      "metadata": {
        "id": "7Uh9b9v_qnTs"
      },
      "outputs": [],
      "source": [
        "# Create a ShaRP object for the white dataframe\n",
        "X_white = top20_white.drop(columns=['RANK']).to_numpy()\n",
        "sharp_ranking_white = ShaRP(\n",
        "    qoi=\"rank\",\n",
        "    target_function=score_function_SCHL,\n",
        "    measure=\"shapley\",\n",
        "    sample_size=None,\n",
        "    replace=False,\n",
        "    random_state=42,\n",
        ")\n",
        "\n",
        "sharp_ranking_white.fit(X_white)"
      ]
    },
    {
      "cell_type": "code",
      "execution_count": 87,
      "metadata": {
        "id": "HO3OQSgvqqjh"
      },
      "outputs": [],
      "source": [
        "# Create a ShaRP object for the non-white dataframe\n",
        "X_non_white = top20_non_white.drop(columns=['RANK']).to_numpy()\n",
        "sharp_ranking_non_white = ShaRP(\n",
        "    qoi=\"rank\",\n",
        "    target_function=score_function_SCHL,\n",
        "    measure=\"shapley\",\n",
        "    sample_size=None,\n",
        "    replace=False,\n",
        "    random_state=42,\n",
        ")\n",
        "\n",
        "sharp_ranking_non_white.fit(X_non_white)"
      ]
    },
    {
      "cell_type": "markdown",
      "metadata": {
        "id": "OXqsAA0jqtOG"
      },
      "source": [
        "### Part (ii)"
      ]
    },
    {
      "cell_type": "code",
      "execution_count": 88,
      "metadata": {
        "id": "UGh15cvbo9ne"
      },
      "outputs": [
        {
          "name": "stderr",
          "output_type": "stream",
          "text": [
            "C:\\Users\\kojil\\AppData\\Local\\Temp\\ipykernel_7612\\2830926581.py:9: SettingWithCopyWarning: \n",
            "A value is trying to be set on a copy of a slice from a DataFrame.\n",
            "Try using .loc[row_indexer,col_indexer] = value instead\n",
            "\n",
            "See the caveats in the documentation: https://pandas.pydata.org/pandas-docs/stable/user_guide/indexing.html#returning-a-view-versus-a-copy\n",
            "  df['My Rank'] = s\n",
            "C:\\Users\\kojil\\AppData\\Local\\Temp\\ipykernel_7612\\2830926581.py:10: SettingWithCopyWarning: \n",
            "A value is trying to be set on a copy of a slice from a DataFrame.\n",
            "Try using .loc[row_indexer,col_indexer] = value instead\n",
            "\n",
            "See the caveats in the documentation: https://pandas.pydata.org/pandas-docs/stable/user_guide/indexing.html#returning-a-view-versus-a-copy\n",
            "  df['Rank Bucket'] = [\"0-\\n10%\" if math.floor((rank - 1) / (rows / buckets)) == 0 else str(math.floor((rank - 1) / (rows / buckets)) * 10) + \"-\\n\" + str(math.floor(((rank - 1) / (rows / buckets)) + 1) * 10) + \"%\" for rank in df['My Rank']]\n",
            "C:\\Users\\kojil\\AppData\\Local\\Temp\\ipykernel_7612\\2830926581.py:11: SettingWithCopyWarning: \n",
            "A value is trying to be set on a copy of a slice from a DataFrame\n",
            "\n",
            "See the caveats in the documentation: https://pandas.pydata.org/pandas-docs/stable/user_guide/indexing.html#returning-a-view-versus-a-copy\n",
            "  df.sort_values(by=['Rank Bucket'],inplace=True)\n",
            "c:\\Users\\kojil\\anaconda3\\lib\\site-packages\\seaborn\\utils.py:478: UserWarning: You have mixed positional and keyword arguments, some input may be discarded.\n",
            "  new_legend = legend_func(handles, labels, loc=loc, **props)\n"
          ]
        },
        {
          "data": {
            "image/png": "[encoded data removed]",
            "text/plain": [
              "<Figure size 640x480 with 7 Axes>"
            ]
          },
          "metadata": {},
          "output_type": "display_data"
        }
      ],
      "source": [
        "# Use the make_boxplot_top20 function on each of the dataframes (see usage example above)\n",
        "\n",
        "\n",
        "#make_boxplot_top20(top20_white, X_white, top20_white['RANK'])\n",
        "make_boxplot_top20(top20_non_white, X_non_white, top20_non_white['RANK'])"
      ]
    },
    {
      "cell_type": "markdown",
      "metadata": {
        "id": "4BZPRgssrj7C"
      },
      "source": [
        "### Part (iii)\n",
        "\n",
        "Inspect the plots in Part (ii)"
      ]
    },
    {
      "cell_type": "markdown",
      "metadata": {
        "id": "bmUYv4uAry_D"
      },
      "source": [
        "### Part (iv)\n",
        "\n",
        "Inspect the plots in Part (ii)"
      ]
    },
    {
      "cell_type": "markdown",
      "metadata": {
        "id": "Pg83qFN9_6pa"
      },
      "source": [
        "# Part (c)\n",
        "\n",
        "Now we will try to compare the feature importance of two separate people (the 200th and the 300th). Select two samples and calculate their individual feature contributions under any QoI. Like in the question above, fix the ranking function to the first one to do so. Late visualize a way to explain why one is ranked higher than the other!\n",
        "\n",
        "**Note:** use the full dataset (not the datasets for each race) and use the `score_function_SCHL` ranker."
      ]
    },
    {
      "cell_type": "code",
      "execution_count": 89,
      "metadata": {
        "id": "fkG8dZJIr63Q"
      },
      "outputs": [
        {
          "name": "stdout",
          "output_type": "stream",
          "text": [
            "Rank of individual AGEP       0.515152\n",
            "SCHL       0.347826\n",
            "WKHP       0.397959\n",
            "RAC1P      1.000000\n",
            "RANK     515.000000\n",
            "Name: 274909, dtype: float64 according to sharp_ranking_SCHL:\n",
            "200\n",
            "Rank of individual AGEP       0.090909\n",
            "SCHL       0.782609\n",
            "WKHP       0.295918\n",
            "RAC1P      9.000000\n",
            "RANK     420.000000\n",
            "Name: 199493, dtype: float64 according to sharp_ranking_SCHL:\n",
            "300\n"
          ]
        }
      ],
      "source": [
        "# Select the index of the 200th ranked individual and save them in a variable called i200\n",
        "# Select the index of the 300th ranked individual and save them in a variable called i300\n",
        "i200 = data.iloc[order_SCHL[200]]\n",
        "i300 = data.iloc[order_SCHL[300]]\n",
        "\n",
        "# Find the rank of the 200th ranked individual according to sharp_ranking_SCHL\n",
        "print(f\"Rank of individual {i200} according to sharp_ranking_SCHL:\")\n",
        "print(np.where(order_SCHL == order_SCHL[200])[0][0])\n",
        "\n",
        "# Find the rank of the 300th ranked individual according to sharp_ranking_SCHL\n",
        "print(f\"Rank of individual {i300} according to sharp_ranking_SCHL:\")\n",
        "print(np.where(order_SCHL == order_SCHL[300])[0][0])\n"
      ]
    },
    {
      "cell_type": "code",
      "execution_count": null,
      "metadata": {
        "id": "DJ19CxkqsCin"
      },
      "outputs": [
        {
          "data": {
            "image/png": "[encoded data removed]",
            "text/plain": [
              "<Figure size 640x480 with 3 Axes>"
            ]
          },
          "execution_count": 37,
          "metadata": {},
          "output_type": "execute_result"
        }
      ],
      "source": [
        "# Create a waterfall plot for each of these individuals\n",
        "sharp_ranking_SCHL.plot.waterfall(X[order_SCHL[200]], data.columns)"
      ]
    },
    {
      "cell_type": "code",
      "execution_count": 90,
      "metadata": {},
      "outputs": [
        {
          "data": {
            "image/png": "[encoded data removed]",
            "text/plain": [
              "<Figure size 640x480 with 3 Axes>"
            ]
          },
          "execution_count": 90,
          "metadata": {},
          "output_type": "execute_result"
        }
      ],
      "source": [
        "sharp_ranking_SCHL.plot.waterfall(X[order_SCHL[300]], data.columns)"
      ]
    },
    {
      "cell_type": "code",
      "execution_count": 1,
      "metadata": {
        "id": "xDjpcHUjsWfY"
      },
      "outputs": [
        {
          "data": {
            "image/png": "[encoded data removed]",
            "text/plain": [
              "<Figure size 640x480 with 1 Axes>"
            ]
          },
          "metadata": {},
          "output_type": "display_data"
        }
      ],
      "source": [
        "# Design a new way to visualize the difference between these two individuals\n",
        "# Be creative! There are no wrong answers, only incompletes :)\n",
        "\n",
        "\n"
      ]
    },
    {
      "cell_type": "code",
      "execution_count": null,
      "metadata": {},
      "outputs": [],
      "source": []
    }
  ],
  "metadata": {
    "colab": {
      "include_colab_link": true,
      "provenance": []
    },
    "kernelspec": {
      "display_name": "Python 3",
      "name": "python3"
    },
    "language_info": {
      "codemirror_mode": {
        "name": "ipython",
        "version": 3
      },
      "file_extension": ".py",
      "mimetype": "text/x-python",
      "name": "python",
      "nbconvert_exporter": "python",
      "pygments_lexer": "ipython3",
      "version": "3.9.18"
    }
  },
  "nbformat": 4,
  "nbformat_minor": 0
}
